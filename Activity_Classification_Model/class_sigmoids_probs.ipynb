{
 "cells": [
  {
   "cell_type": "code",
   "execution_count": 1,
   "metadata": {},
   "outputs": [],
   "source": [
    "import numpy as np\n",
    "import pandas as pd\n",
    "import torch\n",
    "import torch.nn.functional as F"
   ]
  },
  {
   "cell_type": "code",
   "execution_count": null,
   "metadata": {},
   "outputs": [
    {
     "data": {
      "text/plain": [
       "array([1.43761717e-01, 1.57324016e-04, 1.17618236e-04, 6.32421105e-01,\n",
       "       3.55584688e-04, 1.35085664e-02, 2.55574457e-03, 1.33689740e-04,\n",
       "       8.76089234e-01, 1.28626458e-04])"
      ]
     },
     "execution_count": 4,
     "metadata": {},
     "output_type": "execute_result"
    }
   ],
   "source": [
    "# sigmoid_results = np.load(r'D:\\Ali_Thesis\\synthetic_data_generation\\Data\\Process_canada_data\\P13_class_probs_sigmoid.npz')['arr_0']\n",
    "# sigmoid_results[0]"
   ]
  },
  {
   "cell_type": "code",
   "execution_count": 2,
   "metadata": {},
   "outputs": [
    {
     "data": {
      "text/plain": [
       "array([[-26.08112526, -28.51968956, -26.82648087, -29.02114105,\n",
       "        -25.72355461, -32.41719818, -30.02751541, -28.64265633,\n",
       "        -25.18399811, -28.49422836],\n",
       "       [-26.33797073, -29.163517  , -27.11074638, -29.39582062,\n",
       "        -26.55236435, -32.64088821, -30.7914753 , -28.30575562,\n",
       "        -25.99401093, -28.63307953],\n",
       "       [-22.03577232, -25.3131218 , -22.76684952, -24.34521484,\n",
       "        -19.99416542, -28.01225281, -28.09515762, -24.50238609,\n",
       "        -20.47727394, -24.11431122],\n",
       "       [-16.43252373, -20.91667747, -15.8755188 , -17.39653206,\n",
       "        -13.57343006, -22.75067139, -23.93538094, -18.49165916,\n",
       "        -13.86277962, -17.98795319],\n",
       "       [-24.41120911, -27.65715981, -25.12721252, -27.01627159,\n",
       "        -24.41619301, -30.73747253, -29.5745697 , -27.09262466,\n",
       "        -24.28822136, -26.59787178]])"
      ]
     },
     "execution_count": 2,
     "metadata": {},
     "output_type": "execute_result"
    }
   ],
   "source": [
    "results = np.load('P13_class_probs.npz')\n",
    "results = results['array']\n",
    "results[0:5]"
   ]
  },
  {
   "cell_type": "code",
   "execution_count": 3,
   "metadata": {},
   "outputs": [
    {
     "name": "stdout",
     "output_type": "stream",
     "text": [
      "sigmoid along rows:\n",
      " [[4.71097954e-12 4.11202928e-13 2.23566841e-12 2.49045433e-13\n",
      "  6.73600153e-12 8.34429618e-15 9.10365417e-14 3.63623892e-13\n",
      "  1.15538996e-11 4.21807071e-13]\n",
      " [3.64388486e-12 2.15995894e-13 1.68248982e-12 1.71221113e-13\n",
      "  2.94072681e-12 6.67178994e-15 4.24064765e-14 5.09291620e-13\n",
      "  5.13977956e-12 3.67122972e-13]\n",
      " [2.69144603e-10 1.01543209e-11 1.29563563e-10 2.67305277e-11\n",
      "  2.07321473e-09 6.83019621e-13 6.28677729e-13 2.28427784e-11\n",
      "  1.27888921e-09 3.36734569e-11]\n",
      " [7.30206324e-08 8.24142655e-10 1.27452903e-07 2.78472370e-08\n",
      "  1.27389511e-06 1.31676707e-10 4.02713453e-11 9.31481984e-09\n",
      "  9.53829816e-07 1.54145618e-08]\n",
      " [2.50234156e-11 9.74199969e-13 1.22289806e-11 1.84919336e-12\n",
      "  2.48990116e-11 4.47595066e-14 1.43194908e-13 1.71325737e-12\n",
      "  2.82982441e-11 2.80990124e-12]]\n"
     ]
    }
   ],
   "source": [
    "# Convert NumPy array to PyTorch tensor\n",
    "# tensor = torch.tensor(results, dtype=torch.float32)\n",
    "\n",
    "# Apply sigmoid along rows (dim=1)\n",
    "sigmoid_rows = 1 / (1 + np.exp(-results))\n",
    "\n",
    "print(\"sigmoid along rows:\\n\", sigmoid_rows[0:5])"
   ]
  },
  {
   "cell_type": "code",
   "execution_count": 4,
   "metadata": {},
   "outputs": [
    {
     "data": {
      "text/plain": [
       "np.float64(1.2788892076262926e-09)"
      ]
     },
     "execution_count": 4,
     "metadata": {},
     "output_type": "execute_result"
    }
   ],
   "source": [
    "sigmoid_rows[2,8]"
   ]
  },
  {
   "cell_type": "code",
   "execution_count": 5,
   "metadata": {},
   "outputs": [
    {
     "data": {
      "text/plain": [
       "(417840, 10)"
      ]
     },
     "execution_count": 5,
     "metadata": {},
     "output_type": "execute_result"
    }
   ],
   "source": [
    "sigmoid_rows.shape"
   ]
  },
  {
   "cell_type": "code",
   "execution_count": null,
   "metadata": {},
   "outputs": [],
   "source": [
    "# Save the tensor to a file\n",
    "# torch.save(softmax_rows, \"P13_class_probs_softmax_tensor.pt\")"
   ]
  },
  {
   "cell_type": "code",
   "execution_count": 6,
   "metadata": {},
   "outputs": [],
   "source": [
    "np.savez_compressed('P13_class_probs_sigmoid.npz', sigmoid_rows)"
   ]
  },
  {
   "cell_type": "code",
   "execution_count": 17,
   "metadata": {},
   "outputs": [
    {
     "name": "stdout",
     "output_type": "stream",
     "text": [
      "Loaded tensor:\n",
      " torch.Size([417840, 10])\n"
     ]
    },
    {
     "name": "stderr",
     "output_type": "stream",
     "text": [
      "C:\\Users\\jgm_6\\AppData\\Local\\Temp\\ipykernel_15772\\2223485660.py:2: FutureWarning: You are using `torch.load` with `weights_only=False` (the current default value), which uses the default pickle module implicitly. It is possible to construct malicious pickle data which will execute arbitrary code during unpickling (See https://github.com/pytorch/pytorch/blob/main/SECURITY.md#untrusted-models for more details). In a future release, the default value for `weights_only` will be flipped to `True`. This limits the functions that could be executed during unpickling. Arbitrary objects will no longer be allowed to be loaded via this mode unless they are explicitly allowlisted by the user via `torch.serialization.add_safe_globals`. We recommend you start setting `weights_only=True` for any use case where you don't have full control of the loaded file. Please open an issue on GitHub for any issues related to this experimental feature.\n",
      "  loaded_tensor = torch.load(\"P13_class_probs_softmax_tensor.pt\")\n"
     ]
    }
   ],
   "source": [
    "# Load the tensor back\n",
    "loaded_tensor = torch.load(\"P13_class_probs_softmax_tensor.pt\")\n",
    "print(\"Loaded tensor:\\n\", loaded_tensor.shape)"
   ]
  },
  {
   "cell_type": "code",
   "execution_count": 18,
   "metadata": {},
   "outputs": [
    {
     "data": {
      "text/plain": [
       "tensor([[1.8706e-02, 1.7530e-05, 1.3105e-05, 1.9168e-01, 3.9630e-05, 1.5256e-03,\n",
       "         2.8546e-04, 1.4896e-05, 7.8770e-01, 1.4332e-05],\n",
       "        [2.8122e-02, 9.2696e-06, 2.8170e-06, 4.8298e-01, 2.4039e-05, 2.2196e-03,\n",
       "         2.9174e-04, 3.5297e-06, 4.8634e-01, 4.0606e-06],\n",
       "        [3.9489e-02, 1.0987e-05, 2.9892e-06, 7.1575e-01, 3.6059e-05, 3.6247e-03,\n",
       "         3.9641e-04, 3.4715e-06, 2.4069e-01, 3.3066e-06],\n",
       "        [2.7701e-01, 2.8204e-04, 3.2715e-05, 6.1038e-01, 1.4603e-03, 3.6558e-02,\n",
       "         4.5307e-03, 7.8809e-05, 6.9636e-02, 3.0835e-05],\n",
       "        [3.6777e-01, 8.1288e-04, 1.5350e-04, 5.1156e-01, 4.0930e-03, 7.0488e-02,\n",
       "         1.0136e-02, 3.2718e-04, 3.4599e-02, 6.8511e-05]])"
      ]
     },
     "execution_count": 18,
     "metadata": {},
     "output_type": "execute_result"
    }
   ],
   "source": [
    "loaded_tensor[0:5]"
   ]
  },
  {
   "cell_type": "code",
   "execution_count": null,
   "metadata": {},
   "outputs": [],
   "source": []
  }
 ],
 "metadata": {
  "kernelspec": {
   "display_name": ".venv",
   "language": "python",
   "name": "python3"
  },
  "language_info": {
   "codemirror_mode": {
    "name": "ipython",
    "version": 3
   },
   "file_extension": ".py",
   "mimetype": "text/x-python",
   "name": "python",
   "nbconvert_exporter": "python",
   "pygments_lexer": "ipython3",
   "version": "3.10.7"
  }
 },
 "nbformat": 4,
 "nbformat_minor": 2
}
