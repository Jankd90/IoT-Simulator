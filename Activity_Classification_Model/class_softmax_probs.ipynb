{
 "cells": [
  {
   "cell_type": "code",
   "execution_count": 1,
   "metadata": {},
   "outputs": [],
   "source": [
    "import numpy as np\n",
    "import pandas as pd\n",
    "import torch\n",
    "import torch.nn.functional as F"
   ]
  },
  {
   "cell_type": "code",
   "execution_count": null,
   "metadata": {},
   "outputs": [
    {
     "data": {
      "text/plain": [
       "array([1.43761717e-01, 1.57324016e-04, 1.17618236e-04, 6.32421105e-01,\n",
       "       3.55584688e-04, 1.35085664e-02, 2.55574457e-03, 1.33689740e-04,\n",
       "       8.76089234e-01, 1.28626458e-04])"
      ]
     },
     "execution_count": 4,
     "metadata": {},
     "output_type": "execute_result"
    }
   ],
   "source": [
    "# sigmoid_results = np.load(r'D:\\Ali_Thesis\\synthetic_data_generation\\Data\\Process_canada_data\\P13_class_probs_sigmoid.npz')['arr_0']\n",
    "# sigmoid_results[0]"
   ]
  },
  {
   "cell_type": "code",
   "execution_count": 2,
   "metadata": {},
   "outputs": [
    {
     "data": {
      "text/plain": [
       "array([[-26.08112526, -28.51968956, -26.82648087, -29.02114105,\n",
       "        -25.72355461, -32.41719818, -30.02751541, -28.64265633,\n",
       "        -25.18399811, -28.49422836],\n",
       "       [-26.33797073, -29.163517  , -27.11074638, -29.39582062,\n",
       "        -26.55236435, -32.64088821, -30.7914753 , -28.30575562,\n",
       "        -25.99401093, -28.63307953],\n",
       "       [-22.03577232, -25.3131218 , -22.76684952, -24.34521484,\n",
       "        -19.99416542, -28.01225281, -28.09515762, -24.50238609,\n",
       "        -20.47727394, -24.11431122],\n",
       "       [-16.43252373, -20.91667747, -15.8755188 , -17.39653206,\n",
       "        -13.57343006, -22.75067139, -23.93538094, -18.49165916,\n",
       "        -13.86277962, -17.98795319],\n",
       "       [-24.41120911, -27.65715981, -25.12721252, -27.01627159,\n",
       "        -24.41619301, -30.73747253, -29.5745697 , -27.09262466,\n",
       "        -24.28822136, -26.59787178]])"
      ]
     },
     "execution_count": 2,
     "metadata": {},
     "output_type": "execute_result"
    }
   ],
   "source": [
    "results = np.load('P13_class_probs.npz')\n",
    "results = results['array']\n",
    "results[0:5]"
   ]
  },
  {
   "cell_type": "code",
   "execution_count": 3,
   "metadata": {},
   "outputs": [
    {
     "name": "stdout",
     "output_type": "stream",
     "text": [
      "sigmoid along rows:\n",
      " [[1.75903527e-01 1.53539290e-02 8.34777475e-02 9.29912131e-03\n",
      "  2.51515937e-01 3.11568140e-04 3.39921850e-03 1.35773727e-02\n",
      "  4.31411701e-01 1.57498777e-02]\n",
      " [2.47553406e-01 1.46740419e-02 1.14302757e-01 1.16321923e-02\n",
      "  1.99783189e-01 4.53259196e-04 2.88095483e-03 3.45995770e-02\n",
      "  3.49179511e-01 2.49411124e-02]\n",
      " [6.99890419e-02 2.64055524e-03 3.36920361e-02 6.95107389e-03\n",
      "  5.39123993e-01 1.77614146e-04 1.63482944e-04 5.94009375e-03\n",
      "  3.32565578e-01 8.75653072e-03]\n",
      " [2.94227620e-02 3.32078081e-04 5.13555761e-02 1.12206997e-02\n",
      "  5.13300918e-01 5.30574990e-05 1.62268400e-05 3.75329138e-03\n",
      "  3.84334283e-01 6.21110696e-03]\n",
      " [2.55382258e-01 9.94242322e-03 1.24805691e-01 1.88723708e-02\n",
      "  2.54112624e-01 4.56803502e-04 1.46140877e-03 1.74850445e-02\n",
      "  2.88804278e-01 2.86770973e-02]]\n"
     ]
    }
   ],
   "source": [
    "# Convert NumPy array to PyTorch tensor\n",
    "# tensor = torch.tensor(results, dtype=torch.float32)\n",
    "\n",
    "# Apply sigmoid along rows (dim=1)\n",
    "# Assuming results is your input matrix\n",
    "softmax_rows = np.exp(results) / np.sum(np.exp(results), axis=1, keepdims=True)\n",
    "\n",
    "print(\"sigmoid along rows:\\n\", softmax_rows[0:5])"
   ]
  },
  {
   "cell_type": "code",
   "execution_count": 4,
   "metadata": {},
   "outputs": [
    {
     "data": {
      "text/plain": [
       "array([1.75903527e-01, 1.53539290e-02, 8.34777475e-02, 9.29912131e-03,\n",
       "       2.51515937e-01, 3.11568140e-04, 3.39921850e-03, 1.35773727e-02,\n",
       "       4.31411701e-01, 1.57498777e-02])"
      ]
     },
     "execution_count": 4,
     "metadata": {},
     "output_type": "execute_result"
    }
   ],
   "source": [
    "softmax_rows[0,:]"
   ]
  },
  {
   "cell_type": "code",
   "execution_count": 16,
   "metadata": {},
   "outputs": [],
   "source": [
    "# Save the tensor to a file\n",
    "# torch.save(softmax_rows, \"P13_class_probs_softmax_tensor.pt\")"
   ]
  },
  {
   "cell_type": "code",
   "execution_count": 5,
   "metadata": {},
   "outputs": [],
   "source": [
    "np.savez_compressed('P13_class_probs_softmax.npz', softmax_rows)"
   ]
  },
  {
   "cell_type": "code",
   "execution_count": 17,
   "metadata": {},
   "outputs": [
    {
     "name": "stdout",
     "output_type": "stream",
     "text": [
      "Loaded tensor:\n",
      " torch.Size([417840, 10])\n"
     ]
    },
    {
     "name": "stderr",
     "output_type": "stream",
     "text": [
      "C:\\Users\\jgm_6\\AppData\\Local\\Temp\\ipykernel_15772\\2223485660.py:2: FutureWarning: You are using `torch.load` with `weights_only=False` (the current default value), which uses the default pickle module implicitly. It is possible to construct malicious pickle data which will execute arbitrary code during unpickling (See https://github.com/pytorch/pytorch/blob/main/SECURITY.md#untrusted-models for more details). In a future release, the default value for `weights_only` will be flipped to `True`. This limits the functions that could be executed during unpickling. Arbitrary objects will no longer be allowed to be loaded via this mode unless they are explicitly allowlisted by the user via `torch.serialization.add_safe_globals`. We recommend you start setting `weights_only=True` for any use case where you don't have full control of the loaded file. Please open an issue on GitHub for any issues related to this experimental feature.\n",
      "  loaded_tensor = torch.load(\"P13_class_probs_softmax_tensor.pt\")\n"
     ]
    }
   ],
   "source": [
    "# Load the tensor back\n",
    "loaded_tensor = torch.load(\"P13_class_probs_softmax_tensor.pt\")\n",
    "print(\"Loaded tensor:\\n\", loaded_tensor.shape)"
   ]
  },
  {
   "cell_type": "code",
   "execution_count": 18,
   "metadata": {},
   "outputs": [
    {
     "data": {
      "text/plain": [
       "tensor([[1.8706e-02, 1.7530e-05, 1.3105e-05, 1.9168e-01, 3.9630e-05, 1.5256e-03,\n",
       "         2.8546e-04, 1.4896e-05, 7.8770e-01, 1.4332e-05],\n",
       "        [2.8122e-02, 9.2696e-06, 2.8170e-06, 4.8298e-01, 2.4039e-05, 2.2196e-03,\n",
       "         2.9174e-04, 3.5297e-06, 4.8634e-01, 4.0606e-06],\n",
       "        [3.9489e-02, 1.0987e-05, 2.9892e-06, 7.1575e-01, 3.6059e-05, 3.6247e-03,\n",
       "         3.9641e-04, 3.4715e-06, 2.4069e-01, 3.3066e-06],\n",
       "        [2.7701e-01, 2.8204e-04, 3.2715e-05, 6.1038e-01, 1.4603e-03, 3.6558e-02,\n",
       "         4.5307e-03, 7.8809e-05, 6.9636e-02, 3.0835e-05],\n",
       "        [3.6777e-01, 8.1288e-04, 1.5350e-04, 5.1156e-01, 4.0930e-03, 7.0488e-02,\n",
       "         1.0136e-02, 3.2718e-04, 3.4599e-02, 6.8511e-05]])"
      ]
     },
     "execution_count": 18,
     "metadata": {},
     "output_type": "execute_result"
    }
   ],
   "source": [
    "loaded_tensor[0:5]"
   ]
  },
  {
   "cell_type": "code",
   "execution_count": null,
   "metadata": {},
   "outputs": [],
   "source": []
  }
 ],
 "metadata": {
  "kernelspec": {
   "display_name": ".venv",
   "language": "python",
   "name": "python3"
  },
  "language_info": {
   "codemirror_mode": {
    "name": "ipython",
    "version": 3
   },
   "file_extension": ".py",
   "mimetype": "text/x-python",
   "name": "python",
   "nbconvert_exporter": "python",
   "pygments_lexer": "ipython3",
   "version": "3.10.7"
  }
 },
 "nbformat": 4,
 "nbformat_minor": 2
}
