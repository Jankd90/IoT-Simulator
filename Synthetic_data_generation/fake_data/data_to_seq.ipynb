{
 "cells": [
  {
   "cell_type": "code",
   "execution_count": 13,
   "metadata": {},
   "outputs": [],
   "source": [
    "import numpy as np\n",
    "import pandas as pd\n",
    "import matplotlib.pyplot as plt\n",
    "from datetime import datetime, timedelta\n",
    "import h5py"
   ]
  },
  {
   "cell_type": "markdown",
   "metadata": {},
   "source": [
    "READ FROM CSV AND convert to sequences"
   ]
  },
  {
   "cell_type": "code",
   "execution_count": 14,
   "metadata": {},
   "outputs": [],
   "source": [
    "def read_csv(file_name):\n",
    "    return pd.read_csv(f\"{file_name}.csv\")"
   ]
  },
  {
   "cell_type": "code",
   "execution_count": 15,
   "metadata": {},
   "outputs": [],
   "source": [
    "file_names = [f\"Day_{i}\" for i in range(1, 6)]\n",
    "data_days = [read_csv(name) for name in file_names]"
   ]
  },
  {
   "cell_type": "code",
   "execution_count": 16,
   "metadata": {},
   "outputs": [],
   "source": [
    "# Access data by index\n",
    "data_day_1 = data_days[0]  # First DataFrame\n",
    "data_day_2 = data_days[1]  # Second DataFrame\n",
    "data_day_3 = data_days[2]\n",
    "data_day_4 = data_days[3]\n",
    "data_day_5 = data_days[4]"
   ]
  },
  {
   "cell_type": "code",
   "execution_count": 17,
   "metadata": {},
   "outputs": [
    {
     "name": "stdout",
     "output_type": "stream",
     "text": [
      "Day_1:\n",
      "  First value: 2024-12-03 10:00:00.000000\n",
      "  Last value: 2024-12-04 09:59:59.984375\n",
      "Day_2:\n",
      "  First value: 2024-12-04 08:00:00.000000\n",
      "  Last value: 2024-12-05 07:59:59.984375\n",
      "Day_3:\n",
      "  First value: 2024-12-05 06:00:00.000000\n",
      "  Last value: 2024-12-06 05:59:59.984375\n",
      "Day_4:\n",
      "  First value: 2024-12-06 02:00:00.000000\n",
      "  Last value: 2024-12-07 01:59:59.984375\n",
      "Day_5:\n",
      "  First value: 2024-12-07 05:00:00.000000\n",
      "  Last value: 2024-12-08 04:59:59.984375\n"
     ]
    }
   ],
   "source": [
    "# Loop through the list and print the first and last values of each DataFrame\n",
    "for i, data in enumerate(data_days, start=1):\n",
    "    print(f\"Day_{i}:\")\n",
    "    print(f\"  First value: {data.iloc[0, 0]}\")\n",
    "    print(f\"  Last value: {data.iloc[-1, 0]}\")"
   ]
  },
  {
   "cell_type": "code",
   "execution_count": 18,
   "metadata": {},
   "outputs": [],
   "source": [
    "# Convert all datasets to NumPy arrays after dropping the 'Timestamp' column\n",
    "sensor_data = [\n",
    "    data.drop(columns=['Timestamp']).to_numpy() \n",
    "    for data in data_days\n",
    "]"
   ]
  },
  {
   "cell_type": "code",
   "execution_count": 19,
   "metadata": {},
   "outputs": [],
   "source": [
    "sensor_data_day_1 = sensor_data[0]\n",
    "sensor_data_day_2 = sensor_data[1]\n",
    "sensor_data_day_3 = sensor_data[2]\n",
    "sensor_data_day_4 = sensor_data[3]\n",
    "sensor_data_day_5 = sensor_data[4]"
   ]
  },
  {
   "cell_type": "code",
   "execution_count": 20,
   "metadata": {},
   "outputs": [],
   "source": [
    "# Initialize empty lists to store data and timestamps for all days\n",
    "all_data = []\n",
    "all_timestamps = []\n",
    "days = 5"
   ]
  },
  {
   "cell_type": "code",
   "execution_count": 21,
   "metadata": {},
   "outputs": [
    {
     "name": "stdout",
     "output_type": "stream",
     "text": [
      "Day 1 - Number of sequences: 17280\n",
      "Day 2 - Number of sequences: 17280\n",
      "Day 3 - Number of sequences: 17280\n",
      "Day 4 - Number of sequences: 17280\n",
      "Day 5 - Number of sequences: 17280\n"
     ]
    }
   ],
   "source": [
    "# Loop through each day and process data\n",
    "for day in range(1, days + 1):\n",
    "    # Dynamically access the sensor data and timestamps for the current day\n",
    "    sensor_data_day = globals()[f\"sensor_data_day_{day}\"]  # Access sensor_data_day_X\n",
    "    timestamps_day = globals()[f\"data_day_{day}\"]['Timestamp']  # Access the corresponding timestamp data\n",
    "\n",
    "    # Parameters for each day\n",
    "    sampling_rate = 64  # 64 Hz\n",
    "    sequence_duration = 5  # 5 seconds\n",
    "    sequence_length = sampling_rate * sequence_duration  # 320 samples for 5 seconds\n",
    "\n",
    "    # Truncate the data to a multiple of sequence_length (320 samples)\n",
    "    num_samples = sensor_data_day.shape[0]  # Number of samples in the current day\n",
    "    num_sequences = num_samples // sequence_length  # Number of 5-second sequences\n",
    "    print(f\"Day {day} - Number of sequences:\", num_sequences)\n",
    "\n",
    "    # Truncate the data and timestamps\n",
    "    sensor_data_truncated = sensor_data_day[:num_sequences * sequence_length]\n",
    "    timestamps_truncated = timestamps_day.iloc[:num_sequences * sequence_length]\n",
    "\n",
    "    # Reshape the data into sequences of shape (x, 7, 320)\n",
    "    data_sequences = sensor_data_truncated.reshape((num_sequences, sequence_length, 7)).transpose((0, 2, 1))\n",
    "\n",
    "    # Extract the start timestamp for each sequence (the first timestamp in each 320-sample block)\n",
    "    start_timestamps = [\n",
    "        timestamps_truncated.iloc[i * sequence_length] for i in range(num_sequences)\n",
    "    ]\n",
    "\n",
    "    # Append data and timestamps for the current day to the lists\n",
    "    all_data.append(data_sequences)\n",
    "    all_timestamps.append(start_timestamps)"
   ]
  },
  {
   "cell_type": "code",
   "execution_count": 22,
   "metadata": {},
   "outputs": [
    {
     "name": "stdout",
     "output_type": "stream",
     "text": [
      "Data for all 5 days saved in 'sensor_data_seq.npz'.\n"
     ]
    }
   ],
   "source": [
    "# Concatenate the data from all days (combine them into one array)\n",
    "final_data = np.concatenate(all_data, axis=0)\n",
    "final_timestamps = np.concatenate(all_timestamps, axis=0)\n",
    "\n",
    "# Save to a single compressed NPZ file\n",
    "np.savez_compressed('sensor_data_all_days.npz', timestamp=final_timestamps, data=final_data)\n",
    "\n",
    "print(f\"Data for all {days} days saved in 'sensor_data_seq.npz'.\")"
   ]
  },
  {
   "cell_type": "code",
   "execution_count": 23,
   "metadata": {},
   "outputs": [],
   "source": [
    "def save_h5(filepath='sensor_data_seq.h5', dataset_name='data', data=final_data):\n",
    "    \"\"\"\n",
    "    Save data to an .h5 file.\n",
    "\n",
    "    Parameters:\n",
    "    - filepath (str): Path to the .h5 file.\n",
    "    - dataset_name (str): Name of the dataset to save.\n",
    "    - data (numpy.ndarray): Data to save.\n",
    "    \"\"\"\n",
    "    with h5py.File(filepath, 'w') as h5file:\n",
    "        h5file.create_dataset('data', data=data, compression='gzip', compression_opts=9)\n",
    "    print(f\"Data saved to {filepath} under dataset '{dataset_name}'\")"
   ]
  },
  {
   "cell_type": "code",
   "execution_count": 24,
   "metadata": {},
   "outputs": [
    {
     "name": "stdout",
     "output_type": "stream",
     "text": [
      "Data saved to sensor_data_seq.h5 under dataset 'data'\n"
     ]
    }
   ],
   "source": [
    "save_h5()"
   ]
  },
  {
   "cell_type": "code",
   "execution_count": null,
   "metadata": {},
   "outputs": [],
   "source": []
  }
 ],
 "metadata": {
  "kernelspec": {
   "display_name": ".venv",
   "language": "python",
   "name": "python3"
  },
  "language_info": {
   "codemirror_mode": {
    "name": "ipython",
    "version": 3
   },
   "file_extension": ".py",
   "mimetype": "text/x-python",
   "name": "python",
   "nbconvert_exporter": "python",
   "pygments_lexer": "ipython3",
   "version": "3.9.10"
  }
 },
 "nbformat": 4,
 "nbformat_minor": 2
}
