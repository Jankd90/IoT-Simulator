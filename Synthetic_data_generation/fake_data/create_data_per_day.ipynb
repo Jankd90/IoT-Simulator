{
 "cells": [
  {
   "cell_type": "code",
   "execution_count": 1,
   "metadata": {},
   "outputs": [],
   "source": [
    "import numpy as np\n",
    "import pandas as pd\n",
    "import matplotlib.pyplot as plt\n",
    "from datetime import datetime, timedelta\n",
    "import random"
   ]
  },
  {
   "cell_type": "code",
   "execution_count": 2,
   "metadata": {},
   "outputs": [],
   "source": [
    "# Parameters\n",
    "frequency_hz = 64  # 64 Hz\n",
    "duration_hours = 24  # 24 hours per day\n",
    "total_samples = int(frequency_hz * duration_hours * 3600)  # Total number of samples per day"
   ]
  },
  {
   "cell_type": "code",
   "execution_count": 3,
   "metadata": {},
   "outputs": [
    {
     "name": "stdout",
     "output_type": "stream",
     "text": [
      "Generated data for 1 and saved to Day_1.csv.\n",
      "Generated data for 2 and saved to Day_2.csv.\n",
      "Generated data for 3 and saved to Day_3.csv.\n",
      "Generated data for 4 and saved to Day_4.csv.\n",
      "Generated data for 5 and saved to Day_5.csv.\n"
     ]
    }
   ],
   "source": [
    "# Generate data for 5 days with a random starting time\n",
    "days = 5\n",
    "start_date = datetime.strptime(\"2024-12-03\", \"%Y-%m-%d\")  # Start from a specific date (e.g., 2024-12-03)\n",
    "\n",
    "for day in range(days):\n",
    "    # Generate the start time for the current day at a random time\n",
    "    start_time = start_date + timedelta(days=day, hours=random.randint(1, 12))  # Starting at a different time for each day\n",
    "    \n",
    "    # Generate timestamps for the current day\n",
    "    timestamps = [start_time + timedelta(seconds=i / frequency_hz) for i in range(total_samples)]\n",
    "\n",
    "    # Generate random sensor data (normally distributed)\n",
    "    data = {\n",
    "        \"Timestamp\": timestamps,\n",
    "        \"acc_x\": np.random.uniform(-2, 2, total_samples),\n",
    "        \"acc_y\": np.random.uniform(-2, 2, total_samples),\n",
    "        \"acc_z\": np.random.uniform(-2, 2, total_samples),\n",
    "        \"BVP\": np.random.uniform(0.5, 3.0, total_samples),\n",
    "        \"EDA\": np.random.uniform(0.01, 50.0, total_samples),\n",
    "        \"TEMP\": np.random.uniform(28, 37, total_samples),\n",
    "        \"label\": np.random.choice([0, 1], total_samples, p=[0.5, 0.5])\n",
    "    }\n",
    "\n",
    "    # Create DataFrame for the current day\n",
    "    df = pd.DataFrame(data)\n",
    "\n",
    "    # Save to a CSV file with the correct date in the filename\n",
    "    df.to_csv(f\"Day_{day+1}.csv\", index=False)\n",
    "\n",
    "    # Print confirmation for each day's file\n",
    "    print(f\"Generated data for {day+1} and saved to Day_{day+1}.csv.\")"
   ]
  },
  {
   "cell_type": "code",
   "execution_count": null,
   "metadata": {},
   "outputs": [],
   "source": []
  }
 ],
 "metadata": {
  "kernelspec": {
   "display_name": ".venv",
   "language": "python",
   "name": "python3"
  },
  "language_info": {
   "codemirror_mode": {
    "name": "ipython",
    "version": 3
   },
   "file_extension": ".py",
   "mimetype": "text/x-python",
   "name": "python",
   "nbconvert_exporter": "python",
   "pygments_lexer": "ipython3",
   "version": "3.9.10"
  }
 },
 "nbformat": 4,
 "nbformat_minor": 2
}
