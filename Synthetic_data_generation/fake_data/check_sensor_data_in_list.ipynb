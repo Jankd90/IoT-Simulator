{
 "cells": [
  {
   "cell_type": "code",
   "execution_count": 1,
   "metadata": {},
   "outputs": [],
   "source": [
    "import numpy as np\n",
    "import h5py"
   ]
  },
  {
   "cell_type": "code",
   "execution_count": 2,
   "metadata": {},
   "outputs": [],
   "source": [
    "with h5py.File('X30.h5', 'r') as h5file:\n",
    "    # List all channel datasets\n",
    "    X30 = h5file['data'][:]"
   ]
  },
  {
   "cell_type": "code",
   "execution_count": 3,
   "metadata": {},
   "outputs": [
    {
     "data": {
      "text/plain": [
       "(86400, 7, 150)"
      ]
     },
     "execution_count": 3,
     "metadata": {},
     "output_type": "execute_result"
    }
   ],
   "source": [
    "X30.shape"
   ]
  },
  {
   "cell_type": "code",
   "execution_count": 4,
   "metadata": {},
   "outputs": [
    {
     "data": {
      "text/plain": [
       "array([ 0.72851363, -1.34932879,  1.943272  ,  2.94863064, 48.54540388,\n",
       "       34.74493881,  0.        ])"
      ]
     },
     "execution_count": 4,
     "metadata": {},
     "output_type": "execute_result"
    }
   ],
   "source": [
    "X30[0,:,0]"
   ]
  },
  {
   "cell_type": "code",
   "execution_count": 5,
   "metadata": {},
   "outputs": [
    {
     "data": {
      "text/plain": [
       "array([ 0.72851363, -1.34932879,  1.943272  ,  2.94863064, 48.54540388,\n",
       "       34.74493881])"
      ]
     },
     "execution_count": 5,
     "metadata": {},
     "output_type": "execute_result"
    }
   ],
   "source": [
    "X30_sensor_data = X30[:,:6,:]\n",
    "X30_sensor_data[0,:,0]"
   ]
  },
  {
   "cell_type": "code",
   "execution_count": 6,
   "metadata": {},
   "outputs": [
    {
     "data": {
      "text/plain": [
       "(86400, 6, 150)"
      ]
     },
     "execution_count": 6,
     "metadata": {},
     "output_type": "execute_result"
    }
   ],
   "source": [
    "X30_sensor_data.shape"
   ]
  },
  {
   "cell_type": "code",
   "execution_count": 7,
   "metadata": {},
   "outputs": [
    {
     "name": "stdout",
     "output_type": "stream",
     "text": [
      "Original shape: (86400, 6, 150)\n",
      "Reshaped shape: (720, 6, 120, 150)\n"
     ]
    }
   ],
   "source": [
    "# Reshape into 3D array with 10-minute sequences\n",
    "num_5sec_per_10min = 120  # 10 minutes worth of 5-second sequences\n",
    "reshaped_data = X30_sensor_data.reshape(-1, num_5sec_per_10min, 6, 150)  # Step 1: Reshape\n",
    "X30_reshaped_sensor_data = reshaped_data.transpose(0, 2, 1, 3)  # Step 2: Swap axes to merge\n",
    "# X30_reshaped_sensor_data = reshaped_data.reshape(reshaped_data.shape[0], 6, -1)  # Step 3: Flatten time\n",
    "\n",
    "print(\"Original shape:\", X30_sensor_data.shape)\n",
    "print(\"Reshaped shape:\", X30_reshaped_sensor_data.shape)"
   ]
  },
  {
   "cell_type": "code",
   "execution_count": 7,
   "metadata": {},
   "outputs": [],
   "source": [
    "def save_h5(filepath, dataset_name, data):\n",
    "        \"\"\"\n",
    "        Save data to an .h5 file.\n",
    "\n",
    "        Parameters:\n",
    "        - filepath (str): Path to the .h5 file.\n",
    "        - dataset_name (str): Name of the dataset to save.\n",
    "        - data (numpy.ndarray): Data to save.\n",
    "        \"\"\"\n",
    "        with h5py.File(filepath, 'w') as h5file:\n",
    "            h5file.create_dataset('data', data=data, compression='gzip', compression_opts=9)\n",
    "        print(f\"Data saved to {filepath} under dataset '{dataset_name}'\")"
   ]
  },
  {
   "cell_type": "code",
   "execution_count": 8,
   "metadata": {},
   "outputs": [
    {
     "name": "stdout",
     "output_type": "stream",
     "text": [
      "Data saved to X30_sensor_data_5sec.h5 under dataset 'data'\n"
     ]
    }
   ],
   "source": [
    "save_h5('X30_sensor_data_5sec.h5', 'data', X30_sensor_data)"
   ]
  },
  {
   "cell_type": "code",
   "execution_count": null,
   "metadata": {},
   "outputs": [],
   "source": []
  }
 ],
 "metadata": {
  "kernelspec": {
   "display_name": ".venv",
   "language": "python",
   "name": "python3"
  },
  "language_info": {
   "codemirror_mode": {
    "name": "ipython",
    "version": 3
   },
   "file_extension": ".py",
   "mimetype": "text/x-python",
   "name": "python",
   "nbconvert_exporter": "python",
   "pygments_lexer": "ipython3",
   "version": "3.9.10"
  }
 },
 "nbformat": 4,
 "nbformat_minor": 2
}
