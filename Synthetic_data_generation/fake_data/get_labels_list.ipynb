{
 "cells": [
  {
   "cell_type": "code",
   "execution_count": 1,
   "metadata": {},
   "outputs": [],
   "source": [
    "import numpy as np\n",
    "import pandas as pd"
   ]
  },
  {
   "cell_type": "code",
   "execution_count": 2,
   "metadata": {},
   "outputs": [],
   "source": [
    "Y = np.load('Y.npz')\n",
    "Y_agitation = np.load('Y_agitation.npz')"
   ]
  },
  {
   "cell_type": "code",
   "execution_count": 3,
   "metadata": {},
   "outputs": [],
   "source": [
    "Y = Y['y']"
   ]
  },
  {
   "cell_type": "code",
   "execution_count": 4,
   "metadata": {},
   "outputs": [],
   "source": [
    "Y_agitation = Y_agitation['arr_0']"
   ]
  },
  {
   "cell_type": "code",
   "execution_count": 5,
   "metadata": {},
   "outputs": [
    {
     "name": "stdout",
     "output_type": "stream",
     "text": [
      "(86400,)\n",
      "(86400,)\n"
     ]
    }
   ],
   "source": [
    "print(Y.shape)\n",
    "print(Y_agitation.shape)"
   ]
  },
  {
   "cell_type": "code",
   "execution_count": 8,
   "metadata": {},
   "outputs": [
    {
     "data": {
      "text/plain": [
       "'sitting'"
      ]
     },
     "execution_count": 8,
     "metadata": {},
     "output_type": "execute_result"
    }
   ],
   "source": [
    "Y[554]"
   ]
  },
  {
   "cell_type": "markdown",
   "metadata": {},
   "source": [
    "Activity"
   ]
  },
  {
   "cell_type": "code",
   "execution_count": 15,
   "metadata": {},
   "outputs": [],
   "source": [
    "dtime = 5\n",
    "labels_per_sequence = 600 // dtime\n",
    "total_labels = len(Y)"
   ]
  },
  {
   "cell_type": "code",
   "execution_count": 16,
   "metadata": {},
   "outputs": [],
   "source": [
    "sequences = [Y[i:i + labels_per_sequence] for i in range(0, total_labels, labels_per_sequence)]"
   ]
  },
  {
   "cell_type": "code",
   "execution_count": 17,
   "metadata": {},
   "outputs": [],
   "source": [
    "seq = np.array(sequences)"
   ]
  },
  {
   "cell_type": "code",
   "execution_count": 20,
   "metadata": {},
   "outputs": [
    {
     "data": {
      "text/plain": [
       "'walking'"
      ]
     },
     "execution_count": 20,
     "metadata": {},
     "output_type": "execute_result"
    }
   ],
   "source": [
    "seq[0][0]"
   ]
  },
  {
   "cell_type": "code",
   "execution_count": 18,
   "metadata": {},
   "outputs": [
    {
     "name": "stdout",
     "output_type": "stream",
     "text": [
      "Total sequences: 720\n",
      "First sequence: ['walking' 'running' 'running' 'sitting' 'walking' 'standing' 'standing'\n",
      " 'standing' 'sitting' 'sitting' 'sitting' 'standing' 'walking' 'standing'\n",
      " 'standing' 'walking' 'running' 'walking' 'sitting' 'walking' 'running'\n",
      " 'running' 'running' 'walking' 'sitting' 'standing' 'sitting' 'walking'\n",
      " 'walking' 'standing' 'standing' 'sitting' 'sitting' 'running' 'running'\n",
      " 'standing' 'sitting' 'sitting' 'walking' 'standing' 'standing' 'walking'\n",
      " 'standing' 'sitting' 'running' 'sitting' 'sitting' 'standing' 'standing'\n",
      " 'sitting' 'running' 'walking' 'standing' 'walking' 'sitting' 'running'\n",
      " 'standing' 'sitting' 'walking' 'sitting' 'standing' 'standing' 'walking'\n",
      " 'sitting' 'running' 'walking' 'standing' 'running' 'running' 'standing'\n",
      " 'sitting' 'walking' 'sitting' 'running' 'standing' 'standing' 'walking'\n",
      " 'sitting' 'sitting' 'sitting' 'sitting' 'walking' 'running' 'sitting'\n",
      " 'sitting' 'running' 'standing' 'standing' 'walking' 'running' 'running'\n",
      " 'walking' 'running' 'running' 'standing' 'sitting' 'sitting' 'running'\n",
      " 'running' 'sitting' 'walking' 'walking' 'running' 'standing' 'sitting'\n",
      " 'running' 'running' 'running' 'sitting' 'sitting' 'standing' 'sitting'\n",
      " 'sitting' 'running' 'standing' 'standing' 'sitting' 'running' 'running'\n",
      " 'sitting']\n",
      "Last sequence: ['running' 'walking' 'sitting' 'sitting' 'standing' 'walking' 'standing'\n",
      " 'running' 'standing' 'sitting' 'running' 'walking' 'walking' 'standing'\n",
      " 'walking' 'sitting' 'sitting' 'standing' 'sitting' 'standing' 'running'\n",
      " 'standing' 'walking' 'sitting' 'running' 'standing' 'walking' 'sitting'\n",
      " 'running' 'running' 'sitting' 'walking' 'standing' 'standing' 'walking'\n",
      " 'standing' 'sitting' 'running' 'running' 'sitting' 'standing' 'standing'\n",
      " 'sitting' 'sitting' 'sitting' 'running' 'running' 'standing' 'standing'\n",
      " 'sitting' 'walking' 'walking' 'sitting' 'running' 'walking' 'walking'\n",
      " 'sitting' 'walking' 'standing' 'standing' 'walking' 'walking' 'running'\n",
      " 'running' 'running' 'sitting' 'running' 'sitting' 'walking' 'running'\n",
      " 'walking' 'standing' 'sitting' 'standing' 'running' 'running' 'walking'\n",
      " 'sitting' 'sitting' 'walking' 'standing' 'running' 'running' 'walking'\n",
      " 'walking' 'standing' 'standing' 'running' 'walking' 'walking' 'sitting'\n",
      " 'walking' 'running' 'sitting' 'walking' 'running' 'walking' 'walking'\n",
      " 'standing' 'walking' 'walking' 'walking' 'walking' 'running' 'sitting'\n",
      " 'running' 'running' 'sitting' 'running' 'standing' 'standing' 'running'\n",
      " 'sitting' 'standing' 'standing' 'walking' 'walking' 'sitting' 'standing'\n",
      " 'standing']\n"
     ]
    }
   ],
   "source": [
    "# Check the result\n",
    "print(f\"Total sequences: {len(seq)}\")\n",
    "print(f\"First sequence: {seq[0]}\")\n",
    "print(f\"Last sequence: {seq[-1]}\")"
   ]
  },
  {
   "cell_type": "code",
   "execution_count": 21,
   "metadata": {},
   "outputs": [],
   "source": [
    "np.savez_compressed('Y_list.npz', seq)"
   ]
  },
  {
   "cell_type": "markdown",
   "metadata": {},
   "source": [
    "Agitation"
   ]
  },
  {
   "cell_type": "code",
   "execution_count": 4,
   "metadata": {},
   "outputs": [
    {
     "name": "stdout",
     "output_type": "stream",
     "text": [
      "(720, 10)\n",
      "[0 0 1 1 1 0 0 0 1 0]\n"
     ]
    }
   ],
   "source": [
    "# Example data: labels collected every 5 seconds\n",
    "sampling_rate = 5  # Time interval in seconds between labels\n",
    "\n",
    "# Step 1: Determine the number of labels per minute and per 10 minutes\n",
    "labels_per_minute = 60 // sampling_rate  # 12 labels per minute\n",
    "# labels_per_10_minutes = labels_per_minute * 10  # 120 labels per 10 minutes\n",
    "\n",
    "# Step 2: Find the most frequent label for each minute\n",
    "most_frequent_per_minute = []\n",
    "for i in range(0, len(Y_agitation), labels_per_minute):\n",
    "    minute_chunk = Y_agitation[i:i + labels_per_minute]\n",
    "    if len(minute_chunk) > 0:\n",
    "        most_frequent_label = np.bincount(minute_chunk).argmax()\n",
    "        most_frequent_per_minute.append(most_frequent_label)\n",
    "\n",
    "# Step 3: Group the most frequent labels into 10-minute intervals\n",
    "most_frequent_per_10_minutes = []\n",
    "for i in range(0, len(most_frequent_per_minute), 10):\n",
    "    ten_minute_chunk = most_frequent_per_minute[i:i + 10]\n",
    "    if len(ten_minute_chunk) > 0:\n",
    "        most_frequent_per_10_minutes.append(ten_minute_chunk)\n",
    "\n",
    "most_frequent_per_10_minutes = np.array(most_frequent_per_10_minutes)\n",
    "print(most_frequent_per_10_minutes.shape)\n",
    "print(most_frequent_per_10_minutes[0])"
   ]
  },
  {
   "cell_type": "code",
   "execution_count": 5,
   "metadata": {},
   "outputs": [],
   "source": [
    "np.savez_compressed('Y_agitation_list.npz', most_frequent_per_10_minutes)"
   ]
  },
  {
   "cell_type": "markdown",
   "metadata": {},
   "source": [
    "Check loading labels"
   ]
  },
  {
   "cell_type": "code",
   "execution_count": 7,
   "metadata": {},
   "outputs": [
    {
     "data": {
      "text/plain": [
       "NpzFile 'Y_list.npz' with keys: arr_0"
      ]
     },
     "execution_count": 7,
     "metadata": {},
     "output_type": "execute_result"
    }
   ],
   "source": [
    "la = np.load('Y_list.npz')\n",
    "la"
   ]
  },
  {
   "cell_type": "code",
   "execution_count": 8,
   "metadata": {},
   "outputs": [
    {
     "data": {
      "text/plain": [
       "(720, 120)"
      ]
     },
     "execution_count": 8,
     "metadata": {},
     "output_type": "execute_result"
    }
   ],
   "source": [
    "la = la['arr_0']\n",
    "la.shape"
   ]
  },
  {
   "cell_type": "code",
   "execution_count": null,
   "metadata": {},
   "outputs": [],
   "source": []
  }
 ],
 "metadata": {
  "kernelspec": {
   "display_name": ".venv",
   "language": "python",
   "name": "python3"
  },
  "language_info": {
   "codemirror_mode": {
    "name": "ipython",
    "version": 3
   },
   "file_extension": ".py",
   "mimetype": "text/x-python",
   "name": "python",
   "nbconvert_exporter": "python",
   "pygments_lexer": "ipython3",
   "version": "3.9.10"
  }
 },
 "nbformat": 4,
 "nbformat_minor": 2
}
