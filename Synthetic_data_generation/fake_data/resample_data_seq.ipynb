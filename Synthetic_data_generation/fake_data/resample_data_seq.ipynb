{
 "cells": [
  {
   "cell_type": "code",
   "execution_count": 1,
   "metadata": {},
   "outputs": [],
   "source": [
    "import numpy as np\n",
    "import pandas as pd\n",
    "import matplotlib.pyplot as plt"
   ]
  },
  {
   "cell_type": "markdown",
   "metadata": {},
   "source": [
    "READ NPZ FILE"
   ]
  },
  {
   "cell_type": "code",
   "execution_count": 2,
   "metadata": {},
   "outputs": [],
   "source": [
    "data_seq = np.load(\"sensor_data_all_days.npz\")\n",
    "data = data_seq['data']\n",
    "t = data_seq['timestamp']"
   ]
  },
  {
   "cell_type": "code",
   "execution_count": 3,
   "metadata": {},
   "outputs": [
    {
     "data": {
      "text/plain": [
       "(86400, 7, 320)"
      ]
     },
     "execution_count": 3,
     "metadata": {},
     "output_type": "execute_result"
    }
   ],
   "source": [
    "data.shape"
   ]
  },
  {
   "cell_type": "code",
   "execution_count": 4,
   "metadata": {},
   "outputs": [
    {
     "data": {
      "text/plain": [
       "(86400,)"
      ]
     },
     "execution_count": 4,
     "metadata": {},
     "output_type": "execute_result"
    }
   ],
   "source": [
    "t.shape"
   ]
  },
  {
   "cell_type": "code",
   "execution_count": 5,
   "metadata": {},
   "outputs": [
    {
     "data": {
      "text/plain": [
       "'2024-12-08 03:59:55.000000'"
      ]
     },
     "execution_count": 5,
     "metadata": {},
     "output_type": "execute_result"
    }
   ],
   "source": [
    "t[-1]"
   ]
  },
  {
   "cell_type": "markdown",
   "metadata": {},
   "source": [
    "RESAMPLE DATA FROM 64 HZ TO 30 HZ"
   ]
  },
  {
   "cell_type": "code",
   "execution_count": 2,
   "metadata": {},
   "outputs": [],
   "source": [
    "import h5py"
   ]
  },
  {
   "cell_type": "code",
   "execution_count": 3,
   "metadata": {},
   "outputs": [],
   "source": [
    "def save_h5(filepath, dataset_name, data):\n",
    "        \"\"\"\n",
    "        Save data to an .h5 file.\n",
    "\n",
    "        Parameters:\n",
    "        - filepath (str): Path to the .h5 file.\n",
    "        - dataset_name (str): Name of the dataset to save.\n",
    "        - data (numpy.ndarray): Data to save.\n",
    "        \"\"\"\n",
    "        with h5py.File(filepath, 'w') as h5file:\n",
    "            h5file.create_dataset('data', data=data, compression='gzip', compression_opts=9)\n",
    "        print(f\"Data saved to {filepath} under dataset '{dataset_name}'\")"
   ]
  },
  {
   "cell_type": "code",
   "execution_count": null,
   "metadata": {},
   "outputs": [],
   "source": [
    "# # Read the datasets and combine them\n",
    "# def combine_channels(h5_filepath):\n",
    "#     with h5py.File(h5_filepath, 'r') as h5file:\n",
    "#         # List all channel datasets\n",
    "#         datasets = sorted(h5file.keys())  # Ensure channels are loaded in order\n",
    "#         num_channels = len(datasets)\n",
    "\n",
    "#         # Read the first channel to get the shape\n",
    "#         first_channel = h5file[datasets[0]]\n",
    "#         new_num_seq, new_samples = first_channel.shape\n",
    "\n",
    "#         # Initialize an empty array to hold the combined data\n",
    "#         combined_data = np.empty((new_num_seq, num_channels, new_samples), dtype=first_channel.dtype)\n",
    "\n",
    "#         # Load each channel and stack into the combined array\n",
    "#         for i, dataset_name in enumerate(datasets):\n",
    "#             print(f\"Loading {dataset_name}...\")\n",
    "#             combined_data[:, i, :] = h5file[dataset_name][:]\n",
    "    \n",
    "#     return combined_data"
   ]
  },
  {
   "cell_type": "code",
   "execution_count": 4,
   "metadata": {},
   "outputs": [],
   "source": [
    "with h5py.File('sensor_data_seq.h5', 'r') as h5file:\n",
    "    # List all channel datasets\n",
    "    X64 = h5file['data'][:]"
   ]
  },
  {
   "cell_type": "code",
   "execution_count": 5,
   "metadata": {},
   "outputs": [
    {
     "name": "stdout",
     "output_type": "stream",
     "text": [
      "Data shape: (86400, 7, 320)\n"
     ]
    }
   ],
   "source": [
    "# Combine channels\n",
    "# X64 = combine_channels(data_64hz_path)\n",
    "print(\"Data shape:\", X64.shape)"
   ]
  },
  {
   "cell_type": "code",
   "execution_count": 6,
   "metadata": {},
   "outputs": [
    {
     "data": {
      "text/plain": [
       "array([  0,   2,   4,   6,   9,  11,  13,  15,  17,  19,  21,  24,  26,\n",
       "        28,  30,  32,  34,  36,  39,  41,  43,  45,  47,  49,  51,  54,\n",
       "        56,  58,  60,  62,  64,  66,  69,  71,  73,  75,  77,  79,  81,\n",
       "        83,  86,  88,  90,  92,  94,  96,  98, 101, 103, 105, 107, 109,\n",
       "       111, 113, 116, 118, 120, 122, 124, 126, 128, 131, 133, 135, 137,\n",
       "       139, 141, 143, 146, 148, 150, 152, 154, 156, 158, 161, 163, 165,\n",
       "       167, 169, 171, 173, 176, 178, 180, 182, 184, 186, 188, 191, 193,\n",
       "       195, 197, 199, 201, 203, 206, 208, 210, 212, 214, 216, 218, 221,\n",
       "       223, 225, 227, 229, 231, 233, 236, 238, 240, 242, 244, 246, 248,\n",
       "       250, 253, 255, 257, 259, 261, 263, 265, 268, 270, 272, 274, 276,\n",
       "       278, 280, 283, 285, 287, 289, 291, 293, 295, 298, 300, 302, 304,\n",
       "       306, 308, 310, 313, 315, 317, 319])"
      ]
     },
     "execution_count": 6,
     "metadata": {},
     "output_type": "execute_result"
    }
   ],
   "source": [
    "# Define the original and target sample sizes\n",
    "original_length = 320\n",
    "target_length = 150\n",
    "\n",
    "# Compute fractional indices for the target length\n",
    "fractional_indices = np.linspace(0, original_length - 1, target_length)\n",
    "\n",
    "# Round the indices to the nearest integers\n",
    "indices_to_keep = np.round(fractional_indices).astype(int)\n",
    "indices_to_keep"
   ]
  },
  {
   "cell_type": "code",
   "execution_count": 7,
   "metadata": {},
   "outputs": [
    {
     "name": "stdout",
     "output_type": "stream",
     "text": [
      "Original shape: (86400, 7, 320)\n",
      "Downsampled shape: (86400, 7, 150)\n"
     ]
    }
   ],
   "source": [
    "# Subsample the data using these indices\n",
    "X30 = X64[:, :, indices_to_keep]\n",
    "\n",
    "print(\"Original shape:\", X64.shape)\n",
    "print(\"Downsampled shape:\", X30.shape)"
   ]
  },
  {
   "cell_type": "code",
   "execution_count": 8,
   "metadata": {},
   "outputs": [
    {
     "data": {
      "text/plain": [
       "array([[ 0.72851363, -1.97226325,  1.44096863, ..., -0.30792527,\n",
       "        -1.95175043,  1.48047396],\n",
       "       [-1.34932879,  0.1627911 ,  1.5037489 , ...,  1.5708463 ,\n",
       "        -0.2349665 ,  0.54133935],\n",
       "       [ 1.943272  , -1.93096235,  1.86852888, ..., -1.00515273,\n",
       "         1.49717586, -1.05613862],\n",
       "       ...,\n",
       "       [48.54540388, 13.11833533, 39.50169208, ..., 45.18424674,\n",
       "        43.07128692, 42.95263446],\n",
       "       [34.74493881, 36.53193387, 34.35235189, ..., 29.18680941,\n",
       "        33.59140713, 34.53353279],\n",
       "       [ 0.        ,  0.        ,  0.        , ...,  1.        ,\n",
       "         1.        ,  1.        ]])"
      ]
     },
     "execution_count": 8,
     "metadata": {},
     "output_type": "execute_result"
    }
   ],
   "source": [
    "X30[0]"
   ]
  },
  {
   "cell_type": "code",
   "execution_count": 9,
   "metadata": {},
   "outputs": [
    {
     "name": "stdout",
     "output_type": "stream",
     "text": [
      "Data saved to X30.h5 under dataset 'data'\n"
     ]
    }
   ],
   "source": [
    "data_30hz_path = r'X30.h5'\n",
    "\n",
    "save_h5(data_30hz_path, 'data', X30)"
   ]
  },
  {
   "cell_type": "code",
   "execution_count": null,
   "metadata": {},
   "outputs": [],
   "source": []
  },
  {
   "cell_type": "code",
   "execution_count": null,
   "metadata": {},
   "outputs": [],
   "source": []
  },
  {
   "cell_type": "code",
   "execution_count": null,
   "metadata": {},
   "outputs": [],
   "source": []
  },
  {
   "cell_type": "code",
   "execution_count": null,
   "metadata": {},
   "outputs": [],
   "source": [
    "from scipy.signal import resample"
   ]
  },
  {
   "cell_type": "code",
   "execution_count": 7,
   "metadata": {},
   "outputs": [],
   "source": [
    "# Parameters\n",
    "original_frequency = 64  # Original frequency (in Hz)\n",
    "new_frequency = 30  # New frequency (in Hz)\n",
    "sequence_length = 320  # 320 samples for 5 seconds at original frequency"
   ]
  },
  {
   "cell_type": "code",
   "execution_count": 8,
   "metadata": {},
   "outputs": [
    {
     "name": "stdout",
     "output_type": "stream",
     "text": [
      "Resampled data shape: (86400, 6, 150)\n"
     ]
    }
   ],
   "source": [
    "# Calculate the new number of samples per sequence\n",
    "new_sequence_length = int(sequence_length * new_frequency / original_frequency)\n",
    "\n",
    "# Resample each sequence\n",
    "resampled_sequences = np.array([\n",
    "    resample(sequence.T, new_sequence_length).T  # Resample each sequence (7, 320) -> (7, new_sequence_length)\n",
    "    for sequence in data\n",
    "])\n",
    "\n",
    "data = resampled_sequences\n",
    "\n",
    "# Display the shape of the resampled data\n",
    "print(\"Resampled data shape:\", data.shape)"
   ]
  },
  {
   "cell_type": "code",
   "execution_count": 9,
   "metadata": {},
   "outputs": [],
   "source": [
    "np.savez_compressed('X_30.npz', timestamp=t, data=data)"
   ]
  },
  {
   "cell_type": "markdown",
   "metadata": {},
   "source": [
    "GET THE ACCELEROMETER DATA FROM THE SEQUENCES"
   ]
  },
  {
   "cell_type": "code",
   "execution_count": 11,
   "metadata": {},
   "outputs": [],
   "source": [
    "acc_data = data[:, 0:3, :]"
   ]
  },
  {
   "cell_type": "code",
   "execution_count": 12,
   "metadata": {},
   "outputs": [
    {
     "data": {
      "text/plain": [
       "array([[[ 0.53318214,  0.42503497, -1.18262025, ..., -0.30819584,\n",
       "         -1.35185685,  0.25438791],\n",
       "        [ 0.27778524,  1.2567066 ,  0.18742472, ...,  1.29662915,\n",
       "         -0.36952494, -0.11866601],\n",
       "        [-0.3131505 , -0.29049202, -0.97024155, ...,  1.56263133,\n",
       "         -1.4313148 ,  0.45225118]],\n",
       "\n",
       "       [[ 0.98310011,  0.46642888, -1.07128165, ..., -0.70044903,\n",
       "          0.15718222,  1.34113926],\n",
       "        [-0.04535848,  1.27734019,  0.4928513 , ...,  0.34049488,\n",
       "         -0.01420413, -0.70921527],\n",
       "        [ 0.94272288,  0.93957894, -0.48455656, ...,  0.13058852,\n",
       "          0.82484492, -0.23871198]],\n",
       "\n",
       "       [[ 0.55293449, -1.13348641, -1.27410082, ...,  1.2548377 ,\n",
       "         -0.4526727 ,  0.3072528 ],\n",
       "        [ 0.22472251, -0.96915385, -0.8678195 , ...,  0.25472418,\n",
       "         -0.57843839,  0.73577172],\n",
       "        [-0.07593484,  1.1181429 ,  0.91800281, ...,  1.06306661,\n",
       "         -0.5799588 , -0.32849995]],\n",
       "\n",
       "       [[ 0.31268351,  0.75244547,  0.5238766 , ...,  0.68327422,\n",
       "          0.69881847,  0.12341569],\n",
       "        [ 1.66595007, -0.4854468 ,  0.06340309, ...,  0.38102108,\n",
       "          0.30186107, -0.78465938],\n",
       "        [ 0.23709304,  1.02234168,  0.02620508, ..., -0.24290275,\n",
       "         -0.98350256, -1.14973427]],\n",
       "\n",
       "       [[ 0.27616906,  0.21998741, -0.13179585, ..., -1.37625278,\n",
       "         -0.49403636,  0.93987779],\n",
       "        [-0.05016068, -0.6597954 ,  0.50582155, ..., -0.58758785,\n",
       "         -0.15247043, -0.9978438 ],\n",
       "        [-0.2767488 ,  0.59648475,  1.08827693, ..., -0.12364206,\n",
       "          0.52742828,  0.24813603]]])"
      ]
     },
     "execution_count": 12,
     "metadata": {},
     "output_type": "execute_result"
    }
   ],
   "source": [
    "acc_data[:5,:,:]"
   ]
  },
  {
   "cell_type": "code",
   "execution_count": 13,
   "metadata": {},
   "outputs": [],
   "source": [
    "np.savez_compressed('X_30_acc.npz', timestamp=t, acc_data=acc_data)"
   ]
  },
  {
   "cell_type": "code",
   "execution_count": null,
   "metadata": {},
   "outputs": [],
   "source": []
  }
 ],
 "metadata": {
  "kernelspec": {
   "display_name": ".venv",
   "language": "python",
   "name": "python3"
  },
  "language_info": {
   "codemirror_mode": {
    "name": "ipython",
    "version": 3
   },
   "file_extension": ".py",
   "mimetype": "text/x-python",
   "name": "python",
   "nbconvert_exporter": "python",
   "pygments_lexer": "ipython3",
   "version": "3.9.10"
  }
 },
 "nbformat": 4,
 "nbformat_minor": 2
}
