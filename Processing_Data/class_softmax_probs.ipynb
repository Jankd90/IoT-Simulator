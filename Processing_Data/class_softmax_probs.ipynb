{
 "cells": [
  {
   "cell_type": "code",
   "execution_count": 1,
   "metadata": {},
   "outputs": [],
   "source": [
    "import numpy as np\n",
    "import pandas as pd\n",
    "import torch\n",
    "import torch.nn.functional as F"
   ]
  },
  {
   "cell_type": "code",
   "execution_count": 4,
   "metadata": {},
   "outputs": [
    {
     "data": {
      "text/plain": [
       "array([1.43761717e-01, 1.57324016e-04, 1.17618236e-04, 6.32421105e-01,\n",
       "       3.55584688e-04, 1.35085664e-02, 2.55574457e-03, 1.33689740e-04,\n",
       "       8.76089234e-01, 1.28626458e-04])"
      ]
     },
     "execution_count": 4,
     "metadata": {},
     "output_type": "execute_result"
    }
   ],
   "source": [
    "sigmoid_results = np.load(r'D:\\Ali_Thesis\\synthetic_data_generation\\Data\\Process_canada_data\\P13_class_probs_sigmoid.npz')['arr_0']\n",
    "sigmoid_results[0]"
   ]
  },
  {
   "cell_type": "code",
   "execution_count": 2,
   "metadata": {},
   "outputs": [
    {
     "data": {
      "text/plain": [
       "array([[ -1.78439152,  -8.75704575,  -9.04794884,   0.5426175 ,\n",
       "         -7.94139147,  -4.29083061,  -5.96685266,  -8.91985512,\n",
       "          1.95590627,  -8.95846939],\n",
       "       [ -1.25201261,  -9.26957798, -10.46066189,   1.59141779,\n",
       "         -8.31663513,  -3.79122186,  -5.82044172, -10.23510075,\n",
       "          1.59834504, -10.0949831 ],\n",
       "       [ -0.83016145,  -9.01719379, -10.31890678,   2.0671556 ,\n",
       "         -7.82875824,  -3.21840096,  -5.43147278, -10.16934299,\n",
       "          0.97732258, -10.21801662],\n",
       "       [  0.76175356,  -6.12798738,  -8.28222847,   1.55178916,\n",
       "         -4.48362732,  -1.26339781,  -3.35142255,  -7.40302372,\n",
       "         -0.61902046,  -8.34140491],\n",
       "       [  0.9293862 ,  -5.18523073,  -6.85212326,   1.259395  ,\n",
       "         -3.56878352,  -0.72262406,  -2.6619997 ,  -6.09530163,\n",
       "         -1.43423331,  -7.65881824]])"
      ]
     },
     "execution_count": 2,
     "metadata": {},
     "output_type": "execute_result"
    }
   ],
   "source": [
    "results = np.load('P13_class_probs.npz')\n",
    "results = results['array']\n",
    "results[0:5]"
   ]
  },
  {
   "cell_type": "code",
   "execution_count": 4,
   "metadata": {},
   "outputs": [
    {
     "name": "stdout",
     "output_type": "stream",
     "text": [
      "sigmoid along rows:\n",
      " [[1.43761717e-01 1.57324016e-04 1.17618236e-04 6.32421105e-01\n",
      "  3.55584688e-04 1.35085664e-02 2.55574457e-03 1.33689740e-04\n",
      "  8.76089234e-01 1.28626458e-04]\n",
      " [2.22351941e-01 9.42393982e-05 2.86404493e-05 8.30815483e-01\n",
      "  2.44357188e-04 2.20699356e-02 2.95752169e-03 3.58869573e-05\n",
      "  8.31786955e-01 4.12844606e-05]\n",
      " [3.03610933e-01 1.21291345e-04 3.30020860e-05 8.87669652e-01\n",
      "  3.97961106e-04 3.84791041e-02 4.35757367e-03 3.83260276e-05\n",
      "  7.26576634e-01 3.65052990e-05]\n",
      " [6.81734329e-01 2.17621973e-03 2.52908850e-04 8.25171993e-01\n",
      "  1.11662838e-02 2.20389532e-01 3.38486119e-02 6.09036144e-04\n",
      "  3.50004265e-01 2.38380285e-04]\n",
      " [7.16950742e-01 5.56747437e-03 1.05609207e-03 7.78921943e-01\n",
      "  2.74172303e-02 3.26815408e-01 6.52532549e-02 2.24836381e-03\n",
      "  1.92439943e-01 4.71642159e-04]]\n"
     ]
    }
   ],
   "source": [
    "# Convert NumPy array to PyTorch tensor\n",
    "# tensor = torch.tensor(results, dtype=torch.float32)\n",
    "\n",
    "# Apply sigmoid along rows (dim=1)\n",
    "sigmoid_rows = 1 / (1 + np.exp(-results))\n",
    "\n",
    "print(\"sigmoid along rows:\\n\", sigmoid_rows[0:5])"
   ]
  },
  {
   "cell_type": "code",
   "execution_count": 5,
   "metadata": {},
   "outputs": [
    {
     "data": {
      "text/plain": [
       "0.7265766344599275"
      ]
     },
     "execution_count": 5,
     "metadata": {},
     "output_type": "execute_result"
    }
   ],
   "source": [
    "sigmoid_rows[2,8]"
   ]
  },
  {
   "cell_type": "code",
   "execution_count": 16,
   "metadata": {},
   "outputs": [],
   "source": [
    "# Save the tensor to a file\n",
    "# torch.save(softmax_rows, \"P13_class_probs_softmax_tensor.pt\")"
   ]
  },
  {
   "cell_type": "code",
   "execution_count": 6,
   "metadata": {},
   "outputs": [],
   "source": [
    "np.savez_compressed('P13_class_probs_sigmoid.npz', sigmoid_rows)"
   ]
  },
  {
   "cell_type": "code",
   "execution_count": 17,
   "metadata": {},
   "outputs": [
    {
     "name": "stdout",
     "output_type": "stream",
     "text": [
      "Loaded tensor:\n",
      " torch.Size([417840, 10])\n"
     ]
    },
    {
     "name": "stderr",
     "output_type": "stream",
     "text": [
      "C:\\Users\\jgm_6\\AppData\\Local\\Temp\\ipykernel_15772\\2223485660.py:2: FutureWarning: You are using `torch.load` with `weights_only=False` (the current default value), which uses the default pickle module implicitly. It is possible to construct malicious pickle data which will execute arbitrary code during unpickling (See https://github.com/pytorch/pytorch/blob/main/SECURITY.md#untrusted-models for more details). In a future release, the default value for `weights_only` will be flipped to `True`. This limits the functions that could be executed during unpickling. Arbitrary objects will no longer be allowed to be loaded via this mode unless they are explicitly allowlisted by the user via `torch.serialization.add_safe_globals`. We recommend you start setting `weights_only=True` for any use case where you don't have full control of the loaded file. Please open an issue on GitHub for any issues related to this experimental feature.\n",
      "  loaded_tensor = torch.load(\"P13_class_probs_softmax_tensor.pt\")\n"
     ]
    }
   ],
   "source": [
    "# Load the tensor back\n",
    "loaded_tensor = torch.load(\"P13_class_probs_softmax_tensor.pt\")\n",
    "print(\"Loaded tensor:\\n\", loaded_tensor.shape)"
   ]
  },
  {
   "cell_type": "code",
   "execution_count": 18,
   "metadata": {},
   "outputs": [
    {
     "data": {
      "text/plain": [
       "tensor([[1.8706e-02, 1.7530e-05, 1.3105e-05, 1.9168e-01, 3.9630e-05, 1.5256e-03,\n",
       "         2.8546e-04, 1.4896e-05, 7.8770e-01, 1.4332e-05],\n",
       "        [2.8122e-02, 9.2696e-06, 2.8170e-06, 4.8298e-01, 2.4039e-05, 2.2196e-03,\n",
       "         2.9174e-04, 3.5297e-06, 4.8634e-01, 4.0606e-06],\n",
       "        [3.9489e-02, 1.0987e-05, 2.9892e-06, 7.1575e-01, 3.6059e-05, 3.6247e-03,\n",
       "         3.9641e-04, 3.4715e-06, 2.4069e-01, 3.3066e-06],\n",
       "        [2.7701e-01, 2.8204e-04, 3.2715e-05, 6.1038e-01, 1.4603e-03, 3.6558e-02,\n",
       "         4.5307e-03, 7.8809e-05, 6.9636e-02, 3.0835e-05],\n",
       "        [3.6777e-01, 8.1288e-04, 1.5350e-04, 5.1156e-01, 4.0930e-03, 7.0488e-02,\n",
       "         1.0136e-02, 3.2718e-04, 3.4599e-02, 6.8511e-05]])"
      ]
     },
     "execution_count": 18,
     "metadata": {},
     "output_type": "execute_result"
    }
   ],
   "source": [
    "loaded_tensor[0:5]"
   ]
  },
  {
   "cell_type": "code",
   "execution_count": null,
   "metadata": {},
   "outputs": [],
   "source": []
  }
 ],
 "metadata": {
  "kernelspec": {
   "display_name": ".venv",
   "language": "python",
   "name": "python3"
  },
  "language_info": {
   "codemirror_mode": {
    "name": "ipython",
    "version": 3
   },
   "file_extension": ".py",
   "mimetype": "text/x-python",
   "name": "python",
   "nbconvert_exporter": "python",
   "pygments_lexer": "ipython3",
   "version": "3.10.7"
  }
 },
 "nbformat": 4,
 "nbformat_minor": 2
}
