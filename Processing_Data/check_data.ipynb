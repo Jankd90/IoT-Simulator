{
 "cells": [
  {
   "cell_type": "code",
   "execution_count": 8,
   "metadata": {},
   "outputs": [],
   "source": [
    "import numpy as np\n",
    "import pandas as pd\n",
    "import os"
   ]
  },
  {
   "cell_type": "code",
   "execution_count": 9,
   "metadata": {},
   "outputs": [],
   "source": [
    "# Read data from CSV file\n",
    "def read_data(file_path, p, d):\n",
    "    data = pd.read_csv(fr'{file_path}\\Participant{p}-Day{d}.csv')\n",
    "    return print(f'Day: {d} , St: {data.iloc[0,0]} , Et: {data.iloc[-1,0]}')"
   ]
  },
  {
   "cell_type": "code",
   "execution_count": 13,
   "metadata": {},
   "outputs": [
    {
     "name": "stdout",
     "output_type": "stream",
     "text": [
      "Day: 1 , St: 09:46:05.000 , Et: 20:44:51.984\n",
      "Day: 2 , St: 09:37:46.000 , Et: 21:19:13.984\n",
      "Day: 3 , St: 10:05:53.000 , Et: 20:08:47.984\n",
      "Day: 4 , St: 11:47:05.000 , Et: 22:38:46.984\n",
      "Day: 5 , St: 11:57:31.000 , Et: 17:40:09.984\n",
      "Day: 6 , St: 09:36:08.000 , Et: 21:54:25.984\n",
      "Day: 7 , St: 09:49:31.000 , Et: 19:20:24.984\n",
      "Day: 8 , St: 09:26:03.000 , Et: 19:46:21.984\n",
      "Day: 9 , St: 09:57:38.000 , Et: 17:32:32.984\n",
      "Day: 10 , St: 13:08:34.000 , Et: 20:51:27.984\n",
      "Day: 11 , St: 11:51:33.000 , Et: 23:59:00.000\n",
      "Day: 12 , St: 10:54:49.000 , Et: 20:04:15.984\n",
      "Day: 13 , St: 11:38:32.000 , Et: 22:15:06.984\n",
      "Day: 14 , St: 11:41:18.000 , Et: 20:39:11.984\n",
      "Day: 15 , St: 09:52:05.000 , Et: 21:33:42.984\n",
      "Day: 16 , St: 11:35:55.000 , Et: 18:44:43.984\n",
      "Day: 17 , St: 11:11:49.000 , Et: 19:56:38.984\n",
      "Day: 18 , St: 10:36:24.000 , Et: 23:59:00.000\n",
      "Day: 19 , St: 12:23:29.000 , Et: 19:28:20.984\n",
      "Day: 20 , St: 11:25:14.000 , Et: 20:43:01.984\n",
      "Day: 21 , St: 10:47:09.000 , Et: 19:21:42.984\n",
      "Day: 22 , St: 10:54:46.000 , Et: 22:27:38.984\n",
      "Day: 23 , St: 10:26:21.000 , Et: 20:04:04.984\n",
      "Day: 24 , St: 10:31:34.000 , Et: 20:28:21.984\n",
      "Day: 25 , St: 10:33:10.000 , Et: 23:41:57.984\n",
      "Day: 26 , St: 10:36:28.000 , Et: 17:54:21.984\n",
      "Day: 27 , St: 10:23:12.000 , Et: 23:59:00.000\n",
      "Day: 28 , St: 11:18:37.000 , Et: 18:02:03.984\n",
      "Day: 29 , St: 11:53:22.000 , Et: 21:32:01.984\n",
      "Day: 30 , St: 10:41:33.000 , Et: 17:37:28.984\n",
      "Day: 31 , St: 10:30:22.000 , Et: 20:31:34.984\n",
      "Day: 32 , St: 10:51:47.000 , Et: 21:45:15.984\n",
      "Day: 33 , St: 10:07:30.000 , Et: 21:27:12.984\n",
      "Day: 34 , St: 11:31:15.000 , Et: 20:06:15.984\n",
      "Day: 35 , St: 13:45:33.000 , Et: 20:45:51.984\n",
      "Day: 36 , St: 11:21:22.000 , Et: 21:12:06.984\n",
      "Day: 37 , St: 11:56:57.000 , Et: 21:11:43.984\n",
      "Day: 38 , St: 12:38:03.000 , Et: 20:43:20.984\n",
      "Day: 39 , St: 12:37:44.000 , Et: 21:32:24.984\n",
      "Day: 40 , St: 12:52:19.000 , Et: 22:33:43.984\n",
      "Day: 41 , St: 11:47:54.000 , Et: 23:33:32.984\n",
      "Day: 42 , St: 11:51:38.000 , Et: 20:58:16.984\n",
      "Day: 43 , St: 12:20:50.000 , Et: 20:31:28.984\n",
      "Day: 44 , St: 11:25:48.000 , Et: 22:24:45.984\n",
      "Day: 45 , St: 11:51:40.000 , Et: 20:31:53.984\n",
      "Day: 46 , St: 12:09:04.000 , Et: 23:59:00.000\n",
      "Day: 47 , St: 13:16:37.000 , Et: 20:59:26.984\n",
      "Day: 48 , St: 11:54:46.000 , Et: 09:40:39.984\n",
      "Day: 49 , St: 12:32:53.000 , Et: 22:20:18.984\n",
      "Day: 50 , St: 12:26:09.000 , Et: 20:57:35.984\n",
      "Day: 51 , St: 12:16:02.000 , Et: 20:43:15.984\n",
      "Day: 52 , St: 12:02:54.000 , Et: 11:18:22.984\n",
      "Day: 53 , St: 12:08:51.000 , Et: 23:11:56.984\n"
     ]
    }
   ],
   "source": [
    "P = 13\n",
    "FILEPATH = f'E:\\Datasets\\Canada_Dataset\\Participant{P}'\n",
    "\n",
    "# Loop through files and store in the dictionary\n",
    "for D in range(1, len([file for file in os.listdir(FILEPATH) if file.endswith(\".csv\")]) + 1):\n",
    "    read_data(FILEPATH, P, D)"
   ]
  },
  {
   "cell_type": "code",
   "execution_count": null,
   "metadata": {},
   "outputs": [],
   "source": []
  }
 ],
 "metadata": {
  "kernelspec": {
   "display_name": ".venv",
   "language": "python",
   "name": "python3"
  },
  "language_info": {
   "codemirror_mode": {
    "name": "ipython",
    "version": 3
   },
   "file_extension": ".py",
   "mimetype": "text/x-python",
   "name": "python",
   "nbconvert_exporter": "python",
   "pygments_lexer": "ipython3",
   "version": "3.10.7"
  }
 },
 "nbformat": 4,
 "nbformat_minor": 2
}
