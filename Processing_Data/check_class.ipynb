{
 "cells": [
  {
   "cell_type": "code",
   "execution_count": 1,
   "metadata": {},
   "outputs": [],
   "source": [
    "import numpy as np\n",
    "import h5py"
   ]
  },
  {
   "cell_type": "code",
   "execution_count": 2,
   "metadata": {},
   "outputs": [],
   "source": [
    "with h5py.File(r'P13_5_sec_30hz_sequences.h5', 'r') as h5file:\n",
    "    # List all channel datasets\n",
    "    P13_5_30hz = h5file['data'][:]"
   ]
  },
  {
   "cell_type": "code",
   "execution_count": 3,
   "metadata": {},
   "outputs": [],
   "source": [
    "def save_h5(filepath, dataset_name, data):\n",
    "        \"\"\"\n",
    "        Save data to an .h5 file.\n",
    "\n",
    "        Parameters:\n",
    "        - filepath (str): Path to the .h5 file.\n",
    "        - dataset_name (str): Name of the dataset to save.\n",
    "        - data (numpy.ndarray): Data to save.\n",
    "        \"\"\"\n",
    "        with h5py.File(filepath, 'w') as h5file:\n",
    "            h5file.create_dataset('data', data=data, compression='gzip', compression_opts=9)\n",
    "        print(f\"Data saved to {filepath} under dataset '{dataset_name}'\")"
   ]
  },
  {
   "cell_type": "code",
   "execution_count": 3,
   "metadata": {},
   "outputs": [
    {
     "data": {
      "text/plain": [
       "(array([-0.50025874,  0.15633085,  0.82855353]),\n",
       " np.float64(-2.9060969321579),\n",
       " np.float64(3.24308436153658))"
      ]
     },
     "execution_count": 3,
     "metadata": {},
     "output_type": "execute_result"
    }
   ],
   "source": [
    "P13_5_30hz_sensor_data = P13_5_30hz[:,2:5,:]\n",
    "P13_5_30hz_sensor_data[0,:,0], P13_5_30hz_sensor_data.min(), P13_5_30hz_sensor_data.max()"
   ]
  },
  {
   "cell_type": "code",
   "execution_count": 4,
   "metadata": {},
   "outputs": [
    {
     "data": {
      "text/plain": [
       "(417840, 8, 150)"
      ]
     },
     "execution_count": 4,
     "metadata": {},
     "output_type": "execute_result"
    }
   ],
   "source": [
    "P13_5_30hz.shape"
   ]
  },
  {
   "cell_type": "code",
   "execution_count": 5,
   "metadata": {},
   "outputs": [
    {
     "data": {
      "text/plain": [
       "array([ 3.51650000e+13,  1.46143251e-01, -5.00258735e-01,  1.56330855e-01,\n",
       "        8.28553530e-01,  1.36300000e+01,  3.30722342e+01,  0.00000000e+00])"
      ]
     },
     "execution_count": 5,
     "metadata": {},
     "output_type": "execute_result"
    }
   ],
   "source": [
    "P13_5_30hz[0,:,0]"
   ]
  },
  {
   "cell_type": "code",
   "execution_count": 7,
   "metadata": {},
   "outputs": [
    {
     "data": {
      "text/plain": [
       "array([ 0.14614325, -0.50025874,  0.15633085,  0.82855353, 13.63      ,\n",
       "       33.07223421])"
      ]
     },
     "execution_count": 7,
     "metadata": {},
     "output_type": "execute_result"
    }
   ],
   "source": [
    "P13_5_30hz_sensor_data = P13_5_30hz[:,1:7,:]\n",
    "P13_5_30hz_sensor_data[0,:,0]"
   ]
  },
  {
   "cell_type": "code",
   "execution_count": 8,
   "metadata": {},
   "outputs": [
    {
     "data": {
      "text/plain": [
       "(417840, 6, 150)"
      ]
     },
     "execution_count": 8,
     "metadata": {},
     "output_type": "execute_result"
    }
   ],
   "source": [
    "P13_5_30hz_sensor_data.shape"
   ]
  },
  {
   "cell_type": "code",
   "execution_count": 9,
   "metadata": {},
   "outputs": [
    {
     "name": "stdout",
     "output_type": "stream",
     "text": [
      "Data saved to P13_5_sec_30hz_sequences_sensor_data.h5 under dataset 'data'\n"
     ]
    }
   ],
   "source": [
    "save_h5('P13_5_sec_30hz_sequences_sensor_data.h5', 'data', P13_5_30hz_sensor_data)"
   ]
  },
  {
   "cell_type": "code",
   "execution_count": null,
   "metadata": {},
   "outputs": [],
   "source": []
  },
  {
   "cell_type": "code",
   "execution_count": 12,
   "metadata": {},
   "outputs": [
    {
     "data": {
      "text/plain": [
       "(417840, 150)"
      ]
     },
     "execution_count": 12,
     "metadata": {},
     "output_type": "execute_result"
    }
   ],
   "source": [
    "P13_agitation_label = P13_5_30hz[:,7,:]\n",
    "P13_agitation_label.shape"
   ]
  },
  {
   "cell_type": "code",
   "execution_count": 13,
   "metadata": {},
   "outputs": [
    {
     "data": {
      "text/plain": [
       "array([0., 0., 0., 0., 0., 0., 0., 0., 0., 0., 0., 0., 0., 0., 0., 0., 0.,\n",
       "       0., 0., 0., 0., 0., 0., 0., 0., 0., 0., 0., 0., 0., 0., 0., 0., 0.,\n",
       "       0., 0., 0., 0., 0., 0., 0., 0., 0., 0., 0., 0., 0., 0., 0., 0., 0.,\n",
       "       0., 0., 0., 0., 0., 0., 0., 0., 0., 0., 0., 0., 0., 0., 0., 0., 0.,\n",
       "       0., 0., 0., 0., 0., 0., 0., 0., 0., 0., 0., 0., 0., 0., 0., 0., 0.,\n",
       "       0., 0., 0., 0., 0., 0., 0., 0., 0., 0., 0., 0., 0., 0., 0., 0., 0.,\n",
       "       0., 0., 0., 0., 0., 0., 0., 0., 0., 0., 0., 0., 0., 0., 0., 0., 0.,\n",
       "       0., 0., 0., 0., 0., 0., 0., 0., 0., 0., 0., 0., 0., 0., 0., 0., 0.,\n",
       "       0., 0., 0., 0., 0., 0., 0., 0., 0., 0., 0., 0., 0., 0.])"
      ]
     },
     "execution_count": 13,
     "metadata": {},
     "output_type": "execute_result"
    }
   ],
   "source": [
    "P13_agitation_label[0]"
   ]
  },
  {
   "cell_type": "code",
   "execution_count": 14,
   "metadata": {},
   "outputs": [],
   "source": [
    "P13_agitation = (P13_agitation_label.sum(axis=1) > (P13_agitation_label.shape[1] // 2)).astype(int)"
   ]
  },
  {
   "cell_type": "code",
   "execution_count": 15,
   "metadata": {},
   "outputs": [
    {
     "data": {
      "text/plain": [
       "(417840,)"
      ]
     },
     "execution_count": 15,
     "metadata": {},
     "output_type": "execute_result"
    }
   ],
   "source": [
    "P13_agitation.shape"
   ]
  },
  {
   "cell_type": "code",
   "execution_count": 16,
   "metadata": {},
   "outputs": [
    {
     "data": {
      "text/plain": [
       "0"
      ]
     },
     "execution_count": 16,
     "metadata": {},
     "output_type": "execute_result"
    }
   ],
   "source": [
    "P13_agitation[0]"
   ]
  },
  {
   "cell_type": "code",
   "execution_count": 17,
   "metadata": {},
   "outputs": [
    {
     "data": {
      "text/plain": [
       "array([0, 1])"
      ]
     },
     "execution_count": 17,
     "metadata": {},
     "output_type": "execute_result"
    }
   ],
   "source": [
    "unique_values = np.unique(P13_agitation)\n",
    "unique_values"
   ]
  },
  {
   "cell_type": "code",
   "execution_count": 8,
   "metadata": {},
   "outputs": [],
   "source": [
    "results = np.load('P13_classifications.npz')"
   ]
  },
  {
   "cell_type": "code",
   "execution_count": 18,
   "metadata": {},
   "outputs": [],
   "source": [
    "np.savez_compressed('P13_agitation.npz', P13_agitation)"
   ]
  },
  {
   "cell_type": "code",
   "execution_count": 9,
   "metadata": {},
   "outputs": [],
   "source": [
    "results = results['array']"
   ]
  },
  {
   "cell_type": "code",
   "execution_count": 10,
   "metadata": {},
   "outputs": [
    {
     "data": {
      "text/plain": [
       "array([8, 8, 3, 3, 3, 0, 3, 3, 8, 3])"
      ]
     },
     "execution_count": 10,
     "metadata": {},
     "output_type": "execute_result"
    }
   ],
   "source": [
    "results[0:10]"
   ]
  },
  {
   "cell_type": "code",
   "execution_count": 11,
   "metadata": {},
   "outputs": [
    {
     "data": {
      "text/plain": [
       "(417840,)"
      ]
     },
     "execution_count": 11,
     "metadata": {},
     "output_type": "execute_result"
    }
   ],
   "source": [
    "results.shape"
   ]
  },
  {
   "cell_type": "code",
   "execution_count": 7,
   "metadata": {},
   "outputs": [
    {
     "name": "stdout",
     "output_type": "stream",
     "text": [
      "Unique Values: [0 3 5 8]\n",
      "Counts: [ 75673 209192   2687 130288]\n"
     ]
    }
   ],
   "source": [
    "unique, counts = np.unique(results, return_counts=True)\n",
    "\n",
    "print(f'Unique Values: {unique}')\n",
    "print(f'Counts: {counts}')"
   ]
  },
  {
   "cell_type": "code",
   "execution_count": 8,
   "metadata": {},
   "outputs": [
    {
     "data": {
      "text/plain": [
       "{'Everyday Household and Childcare Activities': 0,\n",
       " 'Food Preparation and Eating': 1,\n",
       " 'High-Energy Sports/Gym': 2,\n",
       " 'High-Intensity Activities': 3,\n",
       " 'Laundry and Clothing Activities': 4,\n",
       " 'Leisure and Recreational Activities': 5,\n",
       " 'Low-Intensity Walking and Standing Activities': 6,\n",
       " 'Moderate Sports/Gym Activities': 7,\n",
       " 'Rest and Relaxation': 8,\n",
       " 'Sedentary Activities': 9}"
      ]
     },
     "execution_count": 8,
     "metadata": {},
     "output_type": "execute_result"
    }
   ],
   "source": [
    "Label_Mapping={'Everyday Household and Childcare Activities': 0, 'Food Preparation and Eating': 1, 'High-Energy Sports/Gym': 2, 'High-Intensity Activities': 3, 'Laundry and Clothing Activities': 4, 'Leisure and Recreational Activities': 5, 'Low-Intensity Walking and Standing Activities': 6, 'Moderate Sports/Gym Activities': 7, 'Rest and Relaxation': 8, 'Sedentary Activities': 9}\n",
    "Label_Mapping"
   ]
  },
  {
   "cell_type": "code",
   "execution_count": null,
   "metadata": {},
   "outputs": [],
   "source": []
  }
 ],
 "metadata": {
  "kernelspec": {
   "display_name": ".venv",
   "language": "python",
   "name": "python3"
  },
  "language_info": {
   "codemirror_mode": {
    "name": "ipython",
    "version": 3
   },
   "file_extension": ".py",
   "mimetype": "text/x-python",
   "name": "python",
   "nbconvert_exporter": "python",
   "pygments_lexer": "ipython3",
   "version": "3.10.7"
  }
 },
 "nbformat": 4,
 "nbformat_minor": 2
}
