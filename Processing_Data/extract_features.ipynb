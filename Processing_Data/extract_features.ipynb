{
 "cells": [
  {
   "cell_type": "markdown",
   "metadata": {},
   "source": [
    "Import Libraries"
   ]
  },
  {
   "cell_type": "code",
   "execution_count": 1,
   "metadata": {},
   "outputs": [],
   "source": [
    "import pandas as pd\n",
    "import numpy as np\n",
    "import matplotlib.pyplot as plt\n",
    "\n",
    "from scipy.signal import welch, find_peaks\n",
    "from scipy.stats import entropy, iqr, mode\n",
    "\n",
    "import h5py"
   ]
  },
  {
   "cell_type": "markdown",
   "metadata": {},
   "source": [
    "Import 5 Seconds Sensor Data Sequences"
   ]
  },
  {
   "cell_type": "code",
   "execution_count": 2,
   "metadata": {},
   "outputs": [
    {
     "name": "stdout",
     "output_type": "stream",
     "text": [
      "Loaded data shape: (417840, 6, 150)\n"
     ]
    }
   ],
   "source": [
    "with h5py.File(r'D:\\Ali_Thesis\\synthetic_data_generation\\Data\\Process_canada_data\\P13_5_sec_30hz_sequences_sensor_data.h5', 'r') as f:\n",
    "    X = f['data'][:]\n",
    "    print(f\"Loaded data shape: {X.shape}\")"
   ]
  },
  {
   "cell_type": "code",
   "execution_count": 3,
   "metadata": {},
   "outputs": [
    {
     "name": "stdout",
     "output_type": "stream",
     "text": [
      "(417840, 6, 150)\n"
     ]
    }
   ],
   "source": [
    "num_sequences, num_channels, num_samples = X.shape\n",
    "print(X.shape)"
   ]
  },
  {
   "cell_type": "markdown",
   "metadata": {},
   "source": [
    "Get Features From The Data"
   ]
  },
  {
   "cell_type": "code",
   "execution_count": 4,
   "metadata": {},
   "outputs": [],
   "source": [
    "class SensorFeatureExtractor:\n",
    "    def __init__(self, window_size=150, frequency=30):\n",
    "        self.window_size = window_size\n",
    "        self.frequency = frequency\n",
    "    \n",
    "    def teager_energy(self, signal):\n",
    "        return signal[:-2]**2 - signal[1:-1] * signal[2:]\n",
    "    \n",
    "    def compute_acc_features(self, signal):\n",
    "        signal = np.linalg.norm(signal, axis=0)\n",
    "        te = self.teager_energy(signal)\n",
    "        freqs, psd = welch(signal, fs=self.frequency, nperseg=len(signal))\n",
    "\n",
    "        # Avoid division by zero (Normalize PSD with small offset)\n",
    "        psd_sum = np.sum(psd)\n",
    "        psd_norm = psd / (psd_sum + 1e-12)  # Add small value to prevent division by zero\n",
    "\n",
    "        # Compute entropy and handle NaN values\n",
    "        spectral_entropy = entropy(psd_norm)\n",
    "\n",
    "        fft_values = np.fft.fft(signal)\n",
    "        power_spectrum = np.abs(fft_values) ** 2\n",
    "\n",
    "        # Normalize the power spectrum\n",
    "        power_spectrum_norm = power_spectrum / np.sum(power_spectrum)\n",
    "\n",
    "        # Extract DC power (first component)\n",
    "        dc_power_value = power_spectrum_norm[0]\n",
    "\n",
    "        return np.array([\n",
    "            np.max(te),\n",
    "            np.min(te),\n",
    "            np.mean(te),\n",
    "            np.sum(te),\n",
    "            np.mean(signal),\n",
    "            np.min(signal),\n",
    "            np.std(signal),\n",
    "            iqr(signal),\n",
    "            spectral_entropy,\n",
    "            dc_power_value\n",
    "        ])\n",
    "    \n",
    "    def compute_eda_features(self, signal):\n",
    "        peaks, _ = find_peaks(signal)\n",
    "        freqs, psd = welch(signal, fs=self.frequency, nperseg=len(signal))\n",
    "\n",
    "        # Avoid division by zero (Normalize PSD with small offset)\n",
    "        psd_sum = np.sum(psd)\n",
    "        psd_norm = psd / (psd_sum + 1e-12)  # Add small value to prevent division by zero\n",
    "\n",
    "        # Compute FFT power spectrum\n",
    "        fft_values = np.fft.fft(signal)\n",
    "        power_spectrum = np.abs(fft_values) ** 2\n",
    "\n",
    "        # Avoid division by zero (Normalize FFT power spectrum with small offset)\n",
    "        power_sum = np.sum(power_spectrum)\n",
    "        power_norm = power_spectrum / (power_sum + 1e-12)  # Add small value\n",
    "\n",
    "        # Compute entropy and handle NaN values\n",
    "        spectral_entropy = entropy(psd_norm)\n",
    "        fft_entropy = entropy(power_norm)\n",
    "\n",
    "        # Ensure no NaN values\n",
    "        spectral_entropy = np.nan_to_num(spectral_entropy, nan=0.0)\n",
    "        fft_entropy = np.nan_to_num(fft_entropy, nan=0.0)\n",
    "\n",
    "        return np.array([\n",
    "            np.max(np.gradient(signal)),\n",
    "            mode(signal, keepdims=True).mode[0] if signal.size > 0 else np.nan,\n",
    "            np.sum(np.abs(signal)),\n",
    "            len(peaks),\n",
    "            np.std(signal),\n",
    "            spectral_entropy,\n",
    "            fft_entropy\n",
    "        ])\n",
    "    \n",
    "    def compute_bvp_features(self, signal):\n",
    "        peaks, _ = find_peaks(signal)\n",
    "        ibi = np.diff(peaks) if len(peaks) > 1 else [0]\n",
    "        freqs, psd = welch(signal, fs=self.frequency, nperseg=len(signal))\n",
    "        \n",
    "        lf_band = (freqs >= 0.01) & (freqs < 0.08)\n",
    "        mf_band = (freqs >= 0.08) & (freqs < 0.15)\n",
    "        hf_band = (freqs >= 0.15) & (freqs < 0.4)\n",
    "        \n",
    "        lf_power = np.log(np.sum(psd[lf_band])) if np.any(lf_band) else 0\n",
    "        mf_power = np.log(np.sum(psd[mf_band])) if np.any(mf_band) else 0\n",
    "        hf_power = np.log(np.sum(psd[hf_band])) if np.any(hf_band) else 0\n",
    "        energy_ratio = mf_power / (lf_power + hf_power) if (lf_power + hf_power) > 0 else 0\n",
    "        \n",
    "        return np.array([\n",
    "            np.std(ibi),\n",
    "            np.mean(ibi) if len(ibi) > 0 else 0,\n",
    "            np.log(np.sum(psd[(freqs >= 0.1) & (freqs <= 0.2)])),\n",
    "            np.sum(psd[(freqs >= 0.01) & (freqs < 0.08)]) / np.sum(psd[(freqs >= 0.15) & (freqs < 0.4)]),\n",
    "            lf_power,\n",
    "            mf_power,\n",
    "            hf_power,\n",
    "            energy_ratio,\n",
    "            np.mean(signal),\n",
    "            np.max(signal),\n",
    "            np.min(signal),\n",
    "            np.std(signal),\n",
    "            iqr(signal),\n",
    "            np.mean(psd),\n",
    "            entropy(psd),\n",
    "            np.linalg.norm(np.abs(np.fft.fft(signal))[1:]),\n",
    "            np.abs(np.fft.fft(signal))[0]\n",
    "        ])\n",
    "    \n",
    "    def compute_temp_features(self, signal):\n",
    "        return np.array([\n",
    "            np.arctan(np.gradient(signal)).mean(),\n",
    "            np.mean(signal),\n",
    "            np.std(signal)\n",
    "        ])\n",
    "    \n",
    "    def extract_features(self, sensor_type, signal):\n",
    "        if sensor_type == 'ACC':\n",
    "            return self.compute_acc_features(signal)\n",
    "        elif sensor_type == 'EDA':\n",
    "            return self.compute_eda_features(signal)\n",
    "        elif sensor_type == 'BVP':\n",
    "            return self.compute_bvp_features(signal)\n",
    "        elif sensor_type == 'TEMP':\n",
    "            return self.compute_temp_features(signal)\n",
    "        else:\n",
    "            raise ValueError(\"Unknown sensor type\")"
   ]
  },
  {
   "cell_type": "code",
   "execution_count": 5,
   "metadata": {},
   "outputs": [
    {
     "name": "stdout",
     "output_type": "stream",
     "text": [
      "EDA shape: (417840, 7)\n",
      "ACC shape: (417840, 10)\n",
      "BVP shape: (417840, 17)\n",
      "TEMP shape: (417840, 3)\n"
     ]
    }
   ],
   "source": [
    "# Initialize the feature extractor\n",
    "extractor = SensorFeatureExtractor()\n",
    "\n",
    "# Storage for extracted features\n",
    "eda_features_list = []\n",
    "acc_features_list = []\n",
    "bvp_features_list = []\n",
    "temp_features_list = []\n",
    "\n",
    "\n",
    "for i in range(num_sequences):\n",
    "    eda_data = X[i, 0, :]  # EDA\n",
    "    acc_data = X[i, 1:4, :]  # ACC (x, y, z)\n",
    "    bvp_data = X[i, 4, :]  # BVP\n",
    "    temp_data = X[i, 5, :]  # TEMP\n",
    "\n",
    "    # Extract features\n",
    "    eda_features_list.append(extractor.extract_features('EDA', eda_data))\n",
    "    acc_features_list.append(extractor.extract_features('ACC', acc_data))\n",
    "    bvp_features_list.append(extractor.extract_features('BVP', bvp_data))\n",
    "    temp_features_list.append(extractor.extract_features('TEMP', temp_data))\n",
    "\n",
    "# Convert lists to NumPy arrays for easier processing\n",
    "eda_features_array = np.array(eda_features_list)\n",
    "acc_features_array = np.array(acc_features_list)\n",
    "bvp_features_array = np.array(bvp_features_list)\n",
    "temp_features_array = np.array(temp_features_list)\n",
    "\n",
    "# Print results\n",
    "print(f'EDA shape: {eda_features_array.shape}')\n",
    "print(f'ACC shape: {acc_features_array.shape}')\n",
    "print(f'BVP shape: {bvp_features_array.shape}')\n",
    "print(f'TEMP shape: {temp_features_array.shape}')"
   ]
  },
  {
   "cell_type": "code",
   "execution_count": 6,
   "metadata": {},
   "outputs": [
    {
     "name": "stdout",
     "output_type": "stream",
     "text": [
      "Features array shape: (417840, 37)\n"
     ]
    }
   ],
   "source": [
    "# Stack all feature arrays horizontally to form (num_sequences, num_all_features)\n",
    "features_array = np.hstack([eda_features_array, acc_features_array, bvp_features_array, temp_features_array])\n",
    "print(f'Features array shape: {features_array.shape}')"
   ]
  },
  {
   "cell_type": "markdown",
   "metadata": {},
   "source": [
    "Save Features To Check It With The Other Notebook"
   ]
  },
  {
   "cell_type": "code",
   "execution_count": 7,
   "metadata": {},
   "outputs": [],
   "source": [
    "np.savez_compressed('P13_5_sec_features_array.npz', features_array)"
   ]
  },
  {
   "cell_type": "code",
   "execution_count": null,
   "metadata": {},
   "outputs": [],
   "source": []
  }
 ],
 "metadata": {
  "kernelspec": {
   "display_name": ".venv",
   "language": "python",
   "name": "python3"
  },
  "language_info": {
   "codemirror_mode": {
    "name": "ipython",
    "version": 3
   },
   "file_extension": ".py",
   "mimetype": "text/x-python",
   "name": "python",
   "nbconvert_exporter": "python",
   "pygments_lexer": "ipython3",
   "version": "3.10.7"
  }
 },
 "nbformat": 4,
 "nbformat_minor": 2
}
