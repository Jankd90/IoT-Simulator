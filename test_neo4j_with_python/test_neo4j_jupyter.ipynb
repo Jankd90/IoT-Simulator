{
 "cells": [
  {
   "cell_type": "code",
   "execution_count": 4,
   "metadata": {},
   "outputs": [],
   "source": [
    "import numpy as np\n",
    "import pandas as pd\n",
    "from neo4j import GraphDatabase"
   ]
  },
  {
   "cell_type": "code",
   "execution_count": 5,
   "metadata": {},
   "outputs": [],
   "source": [
    "# class DataBaseExample:\n",
    "\n",
    "#     def __init__(self, uri, user, password):\n",
    "#         self.driver = GraphDatabase.driver(uri, auth=(user, password))\n",
    "\n",
    "#     def close(self):\n",
    "#         self.driver.close()\n",
    "\n",
    "#     def print_greeting(self, message):\n",
    "#         with self.driver.session() as session:\n",
    "#             result = session.execute_write(self._run_cypher_code, message)\n",
    "#             print(result)\n",
    "\n",
    "#     @staticmethod\n",
    "#     def _run_cypher_code(tx, message):\n",
    "#         result = tx.run(\"CREATE (a:Greeting) \"\n",
    "#                         \"SET a.message = $message \"\n",
    "#                         \"RETURN a.message + ', from node ' + id(a)\", message=message)\n",
    "#         return result.single()[0]"
   ]
  },
  {
   "cell_type": "code",
   "execution_count": 3,
   "metadata": {},
   "outputs": [
    {
     "name": "stdout",
     "output_type": "stream",
     "text": [
      "hello, world, from node 0\n"
     ]
    }
   ],
   "source": [
    "# greeter = DataBaseExample(\"\", \"\", \"\")\n",
    "# greeter.print_greeting(\"hello, world\")\n",
    "# greeter.close()"
   ]
  },
  {
   "cell_type": "code",
   "execution_count": 33,
   "metadata": {},
   "outputs": [],
   "source": [
    "# class DataBaseExample:\n",
    "\n",
    "#     def __init__(self, uri, user, password):\n",
    "#         self.driver = GraphDatabase.driver(uri, auth=(user, password))\n",
    "\n",
    "#     def close(self):\n",
    "#         self.driver.close()\n",
    "\n",
    "#     def create_node(self, label, **properties):\n",
    "#         with self.driver.session() as session:\n",
    "#             result = session.write_transaction(self._create_node, label, properties)\n",
    "#             print(result)\n",
    "\n",
    "#     def create_relationship(self, start_node_name, end_node_name, relationship_type, **properties):\n",
    "#         with self.driver.session() as session:\n",
    "#             result = session.write_transaction(self._create_relationship, start_node_name, end_node_name, relationship_type, properties)\n",
    "#             print(result)\n",
    "\n",
    "#     @staticmethod\n",
    "#     def _create_node(tx, label, properties):\n",
    "#         cypher = f\"CREATE (n:{label} $properties) RETURN n\"\n",
    "#         result = tx.run(cypher, properties=properties)\n",
    "#         return result.single()\n",
    "\n",
    "#     @staticmethod\n",
    "#     def _create_relationship(tx, start_node_name, end_node_name, relationship_type, properties):\n",
    "#         cypher = (\n",
    "#             \"MATCH (start {name: $start_name}), (end {name: $end_name}) \"\n",
    "#             \"CREATE (start)-[r:\" + relationship_type + \" $properties]->(end) \"\n",
    "#             \"RETURN r\"\n",
    "#         )\n",
    "#         result = tx.run(cypher, start_name=start_node_name, end_name=end_node_name, properties=properties)\n",
    "#         return result.single()"
   ]
  },
  {
   "cell_type": "code",
   "execution_count": 34,
   "metadata": {},
   "outputs": [],
   "source": [
    "# # Example usage\n",
    "# uri = \"\"\n",
    "# user = \"\"\n",
    "# password = \"\"\n",
    "# example = DataBaseExample(uri, user, password)"
   ]
  },
  {
   "cell_type": "code",
   "execution_count": 36,
   "metadata": {},
   "outputs": [
    {
     "name": "stderr",
     "output_type": "stream",
     "text": [
      "C:\\Users\\ali20\\AppData\\Local\\Temp/ipykernel_4320/550792496.py:10: DeprecationWarning: Using a driver after it has been closed is deprecated. Future versions of the driver will raise an error.\n",
      "  with self.driver.session() as session:\n",
      "C:\\Users\\ali20\\AppData\\Local\\Temp/ipykernel_4320/550792496.py:11: DeprecationWarning: write_transaction has been renamed to execute_write\n",
      "  result = session.write_transaction(self._create_node, label, properties)\n"
     ]
    },
    {
     "name": "stdout",
     "output_type": "stream",
     "text": [
      "<Record n=<Node element_id='4:1f568fbe-2c5a-4c12-b680-bd2206ad2ca3:1' labels=frozenset({'Person'}) properties={'name': 'Alice', 'age': 30}>>\n",
      "<Record n=<Node element_id='4:1f568fbe-2c5a-4c12-b680-bd2206ad2ca3:5' labels=frozenset({'Person'}) properties={'name': 'Bob', 'age': 35}>>\n",
      "<Record r=<Relationship element_id='5:1f568fbe-2c5a-4c12-b680-bd2206ad2ca3:1152921504606846977' nodes=(<Node element_id='4:1f568fbe-2c5a-4c12-b680-bd2206ad2ca3:1' labels=frozenset() properties={}>, <Node element_id='4:1f568fbe-2c5a-4c12-b680-bd2206ad2ca3:5' labels=frozenset() properties={}>) type='KNOWS' properties={'since': 2010}>>\n"
     ]
    },
    {
     "name": "stderr",
     "output_type": "stream",
     "text": [
      "C:\\Users\\ali20\\AppData\\Local\\Temp/ipykernel_4320/550792496.py:15: DeprecationWarning: Using a driver after it has been closed is deprecated. Future versions of the driver will raise an error.\n",
      "  with self.driver.session() as session:\n",
      "C:\\Users\\ali20\\AppData\\Local\\Temp/ipykernel_4320/550792496.py:16: DeprecationWarning: write_transaction has been renamed to execute_write\n",
      "  result = session.write_transaction(self._create_relationship, start_node_name, end_node_name, relationship_type, properties)\n"
     ]
    }
   ],
   "source": [
    "# example.create_node(\"Person\", name=\"Alice\", age=30)\n",
    "# example.create_node(\"Person\", name=\"Bob\", age=35)\n",
    "\n",
    "# # Create relationship\n",
    "# example.create_relationship(\"Alice\", \"Bob\", \"KNOWS\", since=2010)\n",
    "# example.close()"
   ]
  },
  {
   "cell_type": "code",
   "execution_count": 37,
   "metadata": {},
   "outputs": [],
   "source": [
    "class TemperatureDatabase:\n",
    "    def __init__(self, uri, user, password):\n",
    "        self._driver = GraphDatabase.driver(uri, auth=(user, password))\n",
    "\n",
    "    def close(self):\n",
    "        self._driver.close()\n",
    "\n",
    "    def add_room(self, room_name):\n",
    "        with self._driver.session() as session:\n",
    "            session.write_transaction(self._create_room, room_name)\n",
    "\n",
    "    def add_sensor(self, sensor_id, sensor_type):\n",
    "        with self._driver.session() as session:\n",
    "            session.write_transaction(self._create_sensor, sensor_id, sensor_type)\n",
    "\n",
    "    def add_room_sensor_relationship(self, room_name, sensor_id):\n",
    "        with self._driver.session() as session:\n",
    "            session.write_transaction(self._create_room_sensor_relationship, room_name, sensor_id)\n",
    "\n",
    "    def add_temperature_reading(self, sensor_id, value, timestamp):\n",
    "        with self._driver.session() as session:\n",
    "            session.write_transaction(self._create_temperature_reading, sensor_id, value, timestamp)\n",
    "\n",
    "    @staticmethod\n",
    "    def _create_room(tx, room_name):\n",
    "        query = \"CREATE (:Room {name: $room_name})\"\n",
    "        tx.run(query, room_name=room_name)\n",
    "\n",
    "    @staticmethod\n",
    "    def _create_sensor(tx, sensor_id, sensor_type):\n",
    "        query = \"CREATE (:Sensor {id: $sensor_id, type: $sensor_type})\"\n",
    "        tx.run(query, sensor_id=sensor_id, sensor_type=sensor_type)\n",
    "\n",
    "    @staticmethod\n",
    "    def _create_room_sensor_relationship(tx, room_name, sensor_id):\n",
    "        query = (\n",
    "            \"MATCH (r:Room {name: $room_name}) \"\n",
    "            \"MATCH (s:Sensor {id: $sensor_id}) \"\n",
    "            \"MERGE (r)-[:CONTAINS]->(s)\"\n",
    "        )\n",
    "        tx.run(query, room_name=room_name, sensor_id=sensor_id)\n",
    "\n",
    "    @staticmethod\n",
    "    def _create_temperature_reading(tx, sensor_id, value, timestamp):\n",
    "        query = (\n",
    "            \"MATCH (s:Sensor {id: $sensor_id}) \"\n",
    "            \"CREATE (s)-[:MEASURES]->(:TemperatureReading {value: $value, timestamp: $timestamp})\"\n",
    "        )\n",
    "        tx.run(query, sensor_id=sensor_id, value=value, timestamp=timestamp)"
   ]
  },
  {
   "cell_type": "code",
   "execution_count": 39,
   "metadata": {},
   "outputs": [],
   "source": [
    "uri = \"\"\n",
    "user = \"\"\n",
    "password = \"\"\n",
    "\n",
    "db = TemperatureDatabase(uri, user, password)"
   ]
  },
  {
   "cell_type": "code",
   "execution_count": 40,
   "metadata": {},
   "outputs": [
    {
     "name": "stderr",
     "output_type": "stream",
     "text": [
      "C:\\Users\\ali20\\AppData\\Local\\Temp/ipykernel_4320/1356506378.py:10: DeprecationWarning: write_transaction has been renamed to execute_write\n",
      "  session.write_transaction(self._create_room, room_name)\n",
      "C:\\Users\\ali20\\AppData\\Local\\Temp/ipykernel_4320/1356506378.py:14: DeprecationWarning: write_transaction has been renamed to execute_write\n",
      "  session.write_transaction(self._create_sensor, sensor_id, sensor_type)\n",
      "C:\\Users\\ali20\\AppData\\Local\\Temp/ipykernel_4320/1356506378.py:18: DeprecationWarning: write_transaction has been renamed to execute_write\n",
      "  session.write_transaction(self._create_room_sensor_relationship, room_name, sensor_id)\n",
      "C:\\Users\\ali20\\AppData\\Local\\Temp/ipykernel_4320/1356506378.py:22: DeprecationWarning: write_transaction has been renamed to execute_write\n",
      "  session.write_transaction(self._create_temperature_reading, sensor_id, value, timestamp)\n"
     ]
    }
   ],
   "source": [
    "# Add rooms\n",
    "db.add_room('Kitchen')\n",
    "db.add_room('Living Room')\n",
    "\n",
    "# Add sensors\n",
    "db.add_sensor('Sensor1', 'Temperature')\n",
    "db.add_sensor('Sensor2', 'Temperature')\n",
    "\n",
    "# Create relationships between rooms and sensors\n",
    "db.add_room_sensor_relationship('Kitchen', 'Sensor1')\n",
    "db.add_room_sensor_relationship('Living Room', 'Sensor2')\n",
    "\n",
    "# Add temperature readings\n",
    "db.add_temperature_reading('Sensor1', 21, '2024-04-09T10:00:00Z')\n",
    "db.add_temperature_reading('Sensor2', 23, '2024-04-09T10:00:00Z')\n",
    "\n",
    "db.close()"
   ]
  },
  {
   "cell_type": "code",
   "execution_count": null,
   "metadata": {},
   "outputs": [],
   "source": []
  }
 ],
 "metadata": {
  "kernelspec": {
   "display_name": "CVIP2022",
   "language": "python",
   "name": "cvip2022"
  },
  "language_info": {
   "codemirror_mode": {
    "name": "ipython",
    "version": 3
   },
   "file_extension": ".py",
   "mimetype": "text/x-python",
   "name": "python",
   "nbconvert_exporter": "python",
   "pygments_lexer": "ipython3",
   "version": "3.8.12"
  }
 },
 "nbformat": 4,
 "nbformat_minor": 2
}
